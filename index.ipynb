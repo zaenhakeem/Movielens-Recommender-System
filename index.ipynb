{
 "cells": [
  {
   "cell_type": "markdown",
   "metadata": {},
   "source": [
    "# MOVIELENS RECOMMENDER SYSTEMS"
   ]
  },
  {
   "cell_type": "markdown",
   "metadata": {},
   "source": [
    "## PROJECT OVERVIEW\n",
    "\n",
    "In today's digital age, personalized recommendations are critical to enhancing user experiences across various platforms. One prime example is the movie industry, where vast catalogs of films can overwhelm users, making it challenging for them to find content that suits their unique tastes. \n",
    "\n",
    "The **MovieLens Recommender System** project aims to address this challenge by leveraging the MovieLens dataset, a rich source of user ratings and movie metadata, to develop a robust recommendation engine.\n",
    "\n",
    "Through this project, we aim to demonstrate the potential of data-driven recommendations in creating tailored viewing experiences, helping users discover movies they'll love, and fostering greater engagement with the platform.\n"
   ]
  },
  {
   "cell_type": "markdown",
   "metadata": {},
   "source": [
    "## BUSINESS UNDERSTANDING / BUSINESS QUESTION\n",
    "\n",
    "In this project, we are trying to answer the following questions:\n",
    "\n",
    "1. How can the MovieLens recommender system improve user satisfaction by delivering personalized movie recommendations based on user ratings and movie attributes?\n",
    "\n",
    "2. How can this personalization increase user engagement and overall platform experience?\n"
   ]
  },
  {
   "cell_type": "markdown",
   "metadata": {},
   "source": [
    "## PROBLEM STATEMENT\n",
    "\n",
    "With the vast array of movies available, users often face the challenge of discovering films that match their unique tastes. This project seeks to address this issue by developing a recommendation system that offers tailored movie suggestions based on users' past ratings and preferences.\n"
   ]
  },
  {
   "cell_type": "markdown",
   "metadata": {},
   "source": [
    "## OBJECTIVES\n",
    "\n",
    "**1. Personalization:** - Provide highly personalized movie recommendations, aligning suggestions with individual tastes.  \n",
    "**2. Engagement:** - Drive user engagement by offering relevant and diverse movie suggestions that encourage return visits.  \n",
    "**3. Retention:** - Boost retention by consistently delivering fresh content tailored to evolving user preferences.\n"
   ]
  },
  {
   "cell_type": "markdown",
   "metadata": {},
   "source": [
    "## KEY CHALLENGES\n",
    "\n",
    "**1. Sparsity in User Ratings:**  \n",
    "A significant number of users provide ratings for only a small subset of available movies, resulting in sparse data. This can hinder the accuracy of recommendations, especially for users with limited rating history.\n",
    "\n",
    "**2. Cold Start Problem:**  \n",
    "New users who have little or no historical data present a challenge in providing personalized recommendations. Developing effective methods to recommend relevant content from the start is crucial to enhancing user experience.\n",
    "\n",
    "**3. Diversity:**  \n",
    "It is essential to ensure that the recommendation system suggests a broad range of movies. This helps cater to varying user preferences, preventing the system from offering repetitive or narrow suggestions that may limit user satisfaction.\n"
   ]
  },
  {
   "cell_type": "markdown",
   "metadata": {},
   "source": [
    "## STAKEHOLDERS\n",
    "\n",
    "**1. Users:** - Individuals benefiting from personalized movie recommendations, including new users receiving tailored suggestions.  \n",
    "**2. Business Owners:** - Organizations owning and operating the movie recommendation platform.  \n",
    "**3. Product Managers:** - Responsible for the strategy, development, and success of the recommender system.  \n",
    "**4. Marketing Team:** - Uses user insights to create targeted campaigns for user acquisition and retention.  \n",
    "**5. Data Scientists and Software Engineers:** - Develop algorithms, analyze data, optimize performance, and maintain system infrastructure.  \n",
    "**6. Content Providers:** - Supply and ensure the quality and relevance of movies for recommendations.  \n",
    "**7. Investors and Stakeholders:** - Have a financial interest in the platform’s success and growth.\n"
   ]
  },
  {
   "cell_type": "markdown",
   "metadata": {},
   "source": [
    "## SUCCESS METRICS\n",
    "\n",
    "**Recommendation Accuracy:** - Evaluate quality using metrics like Precision@k and Recall@k.  \n",
    "**Coverage:** - Ensure recommendations span diverse genres and user preferences.  \n",
    "**User Engagement:** - Track metrics like click-through rates to assess effectiveness in improving interaction.\n"
   ]
  },
  {
   "cell_type": "markdown",
   "metadata": {},
   "source": [
    "# Justification for Choosing the MovieLens Dataset\n",
    "\n",
    "**1. Rich Data:** - Contains millions of user ratings and detailed movie metadata, enabling advanced recommendation techniques.  \n",
    "**2. Well-Structured:** - Organized and accessible, making it easy for researchers and practitioners to work with.  \n",
    "**3. Benchmarking:** - A standard benchmark in the research community, facilitating model comparisons.  \n",
    "**4. Publicly Available:** - Accessible to promote transparency, reproducibility, and further research.  \n",
    "**5. Variety of Sizes:** - Available in multiple sizes (100K, 1M, 10M ratings), offering flexibility for different use cases.  \n",
    "**6. Real-World Application:** - Reflects diverse user preferences and movie attributes, aligning with media streaming services.  \n",
    "**7. Historical Data:** - Includes temporal data, enabling the development of time-aware recommendation models.\n"
   ]
  },
  {
   "cell_type": "markdown",
   "metadata": {},
   "source": [
    "### Use Cases and Applications\n",
    "\n",
    "**1. Personalized Recommendations:**  \n",
    "Provide tailored movie suggestions on streaming platforms like Netflix based on user preferences.\n",
    "\n",
    "**2. Enhancing Engagement:**  \n",
    "Recommend relevant content based on past viewing, boosting interaction and satisfaction.\n",
    "\n",
    "**3. Improving Retention:**  \n",
    "Offer dynamic, personalized content to keep users engaged and returning.\n",
    "\n",
    "The MovieLens dataset is a strong foundation for building and evaluating recommender systems, with real-world relevance in media streaming.\n"
   ]
  },
  {
   "cell_type": "markdown",
   "metadata": {},
   "source": [
    "## DATA UNDERSTANDING"
   ]
  },
  {
   "cell_type": "markdown",
   "metadata": {},
   "source": [
    "In this project, we will use four CSV files—**links**, **movies**, **ratings**, and **tags**—to build a movie recommender system. Below is an overview of each dataset:\n",
    "\n",
    "1. **Links:** - Provides relationships between MovieLens and external movie databases (e.g., IMDb, TMDb) for integrating additional movie data.\n",
    "\n",
    "2. **Movies:** - Contains key movie information, including unique identifiers, titles, and genres, forming the base for content-based recommendations.\n",
    "\n",
    "3. **Ratings:** - Includes user-specific ratings for movies, essential for collaborative filtering and understanding user preferences.\n",
    "\n",
    "4. **Tags:** - Contains user-generated tags, adding another layer of personalization by enabling recommendations based on user-defined themes.\n"
   ]
  },
  {
   "cell_type": "code",
   "execution_count": 1,
   "metadata": {},
   "outputs": [],
   "source": [
    "# Importing necessary libraries\n",
    "import pandas as pd\n",
    "import numpy as np\n",
    "import matplotlib.pyplot as plt\n",
    "import seaborn as sns\n",
    "from surprise import Dataset, Reader, SVD, KNNBasic\n",
    "from surprise.model_selection import train_test_split\n",
    "from sklearn.neighbors import NearestNeighbors\n",
    "from surprise import accuracy\n",
    "from scipy.sparse import csr_matrix\n",
    "import pickle\n",
    "import requests\n",
    "from bs4 import BeautifulSoup\n",
    "from tqdm import tqdm\n",
    "import warnings\n",
    "\n",
    "\n",
    "# Suppress warnings\n",
    "warnings.filterwarnings('ignore')\n"
   ]
  },
  {
   "cell_type": "markdown",
   "metadata": {},
   "source": [
    "### MOVIES csv file"
   ]
  },
  {
   "cell_type": "code",
   "execution_count": 2,
   "metadata": {
    "scrolled": true
   },
   "outputs": [
    {
     "data": {
      "text/html": [
       "<div>\n",
       "<style scoped>\n",
       "    .dataframe tbody tr th:only-of-type {\n",
       "        vertical-align: middle;\n",
       "    }\n",
       "\n",
       "    .dataframe tbody tr th {\n",
       "        vertical-align: top;\n",
       "    }\n",
       "\n",
       "    .dataframe thead th {\n",
       "        text-align: right;\n",
       "    }\n",
       "</style>\n",
       "<table border=\"1\" class=\"dataframe\">\n",
       "  <thead>\n",
       "    <tr style=\"text-align: right;\">\n",
       "      <th></th>\n",
       "      <th>movieId</th>\n",
       "      <th>title</th>\n",
       "      <th>genres</th>\n",
       "    </tr>\n",
       "  </thead>\n",
       "  <tbody>\n",
       "    <tr>\n",
       "      <th>0</th>\n",
       "      <td>1</td>\n",
       "      <td>Toy Story (1995)</td>\n",
       "      <td>Adventure|Animation|Children|Comedy|Fantasy</td>\n",
       "    </tr>\n",
       "    <tr>\n",
       "      <th>1</th>\n",
       "      <td>2</td>\n",
       "      <td>Jumanji (1995)</td>\n",
       "      <td>Adventure|Children|Fantasy</td>\n",
       "    </tr>\n",
       "    <tr>\n",
       "      <th>2</th>\n",
       "      <td>3</td>\n",
       "      <td>Grumpier Old Men (1995)</td>\n",
       "      <td>Comedy|Romance</td>\n",
       "    </tr>\n",
       "    <tr>\n",
       "      <th>3</th>\n",
       "      <td>4</td>\n",
       "      <td>Waiting to Exhale (1995)</td>\n",
       "      <td>Comedy|Drama|Romance</td>\n",
       "    </tr>\n",
       "    <tr>\n",
       "      <th>4</th>\n",
       "      <td>5</td>\n",
       "      <td>Father of the Bride Part II (1995)</td>\n",
       "      <td>Comedy</td>\n",
       "    </tr>\n",
       "  </tbody>\n",
       "</table>\n",
       "</div>"
      ],
      "text/plain": [
       "   movieId                               title  \\\n",
       "0        1                    Toy Story (1995)   \n",
       "1        2                      Jumanji (1995)   \n",
       "2        3             Grumpier Old Men (1995)   \n",
       "3        4            Waiting to Exhale (1995)   \n",
       "4        5  Father of the Bride Part II (1995)   \n",
       "\n",
       "                                        genres  \n",
       "0  Adventure|Animation|Children|Comedy|Fantasy  \n",
       "1                   Adventure|Children|Fantasy  \n",
       "2                               Comedy|Romance  \n",
       "3                         Comedy|Drama|Romance  \n",
       "4                                       Comedy  "
      ]
     },
     "metadata": {},
     "output_type": "display_data"
    },
    {
     "name": "stdout",
     "output_type": "stream",
     "text": [
      "-------------------------------------------------------------------------\n",
      "<class 'pandas.core.frame.DataFrame'>\n",
      "RangeIndex: 9742 entries, 0 to 9741\n",
      "Data columns (total 3 columns):\n",
      " #   Column   Non-Null Count  Dtype \n",
      "---  ------   --------------  ----- \n",
      " 0   movieId  9742 non-null   int64 \n",
      " 1   title    9742 non-null   object\n",
      " 2   genres   9742 non-null   object\n",
      "dtypes: int64(1), object(2)\n",
      "memory usage: 228.5+ KB\n"
     ]
    },
    {
     "data": {
      "text/plain": [
       "None"
      ]
     },
     "metadata": {},
     "output_type": "display_data"
    },
    {
     "name": "stdout",
     "output_type": "stream",
     "text": [
      "-------------------------------------------------------------------------\n",
      "              movieId        title genres\n",
      "count     9742.000000         9742   9742\n",
      "unique            NaN         9737    951\n",
      "top               NaN  Emma (1996)  Drama\n",
      "freq              NaN            2   1053\n",
      "mean     42200.353623          NaN    NaN\n",
      "std      52160.494854          NaN    NaN\n",
      "min          1.000000          NaN    NaN\n",
      "25%       3248.250000          NaN    NaN\n",
      "50%       7300.000000          NaN    NaN\n",
      "75%      76232.000000          NaN    NaN\n",
      "max     193609.000000          NaN    NaN\n",
      "-------------------------------------------------------------------------\n"
     ]
    }
   ],
   "source": [
    "# Load movies dataset\n",
    "movies_df = pd.read_csv('movies.csv')\n",
    "display(movies_df.head())\n",
    "print('-------------------------------------------------------------------------')\n",
    "display(movies_df.info())\n",
    "print('-------------------------------------------------------------------------')\n",
    "# Get summary statistics\n",
    "print(movies_df.describe(include='all'))\n",
    "print('-------------------------------------------------------------------------')\n",
    "\n"
   ]
  },
  {
   "cell_type": "markdown",
   "metadata": {},
   "source": [
    "### Column Descriptions\n",
    "\n",
    "**movieId**  \n",
    "- Data Type: int64  \n",
    "- Description: Unique identifier for each movie  \n",
    "- Non-Null Values: 9742 (no missing values)\n",
    "\n",
    "**title**  \n",
    "- Data Type: object (string)  \n",
    "- Description: The movie title  \n",
    "- Non-Null Values: 9742 (no missing values)\n",
    "\n",
    "**genres**  \n",
    "- Data Type: object (string)  \n",
    "- Description: A string of genres separated by a delimiter (e.g., \"Action|Adventure|Comedy\")  \n",
    "- Non-Null Values: 9742 (no missing values)\n"
   ]
  },
  {
   "cell_type": "markdown",
   "metadata": {},
   "source": [
    "### RATINGS csv file"
   ]
  },
  {
   "cell_type": "code",
   "execution_count": 3,
   "metadata": {},
   "outputs": [
    {
     "data": {
      "text/html": [
       "<div>\n",
       "<style scoped>\n",
       "    .dataframe tbody tr th:only-of-type {\n",
       "        vertical-align: middle;\n",
       "    }\n",
       "\n",
       "    .dataframe tbody tr th {\n",
       "        vertical-align: top;\n",
       "    }\n",
       "\n",
       "    .dataframe thead th {\n",
       "        text-align: right;\n",
       "    }\n",
       "</style>\n",
       "<table border=\"1\" class=\"dataframe\">\n",
       "  <thead>\n",
       "    <tr style=\"text-align: right;\">\n",
       "      <th></th>\n",
       "      <th>userId</th>\n",
       "      <th>movieId</th>\n",
       "      <th>rating</th>\n",
       "      <th>timestamp</th>\n",
       "    </tr>\n",
       "  </thead>\n",
       "  <tbody>\n",
       "    <tr>\n",
       "      <th>0</th>\n",
       "      <td>1</td>\n",
       "      <td>1</td>\n",
       "      <td>4.0</td>\n",
       "      <td>964982703</td>\n",
       "    </tr>\n",
       "    <tr>\n",
       "      <th>1</th>\n",
       "      <td>1</td>\n",
       "      <td>3</td>\n",
       "      <td>4.0</td>\n",
       "      <td>964981247</td>\n",
       "    </tr>\n",
       "    <tr>\n",
       "      <th>2</th>\n",
       "      <td>1</td>\n",
       "      <td>6</td>\n",
       "      <td>4.0</td>\n",
       "      <td>964982224</td>\n",
       "    </tr>\n",
       "    <tr>\n",
       "      <th>3</th>\n",
       "      <td>1</td>\n",
       "      <td>47</td>\n",
       "      <td>5.0</td>\n",
       "      <td>964983815</td>\n",
       "    </tr>\n",
       "    <tr>\n",
       "      <th>4</th>\n",
       "      <td>1</td>\n",
       "      <td>50</td>\n",
       "      <td>5.0</td>\n",
       "      <td>964982931</td>\n",
       "    </tr>\n",
       "  </tbody>\n",
       "</table>\n",
       "</div>"
      ],
      "text/plain": [
       "   userId  movieId  rating  timestamp\n",
       "0       1        1     4.0  964982703\n",
       "1       1        3     4.0  964981247\n",
       "2       1        6     4.0  964982224\n",
       "3       1       47     5.0  964983815\n",
       "4       1       50     5.0  964982931"
      ]
     },
     "metadata": {},
     "output_type": "display_data"
    },
    {
     "name": "stdout",
     "output_type": "stream",
     "text": [
      "-------------------------------------------------------------------------\n",
      "<class 'pandas.core.frame.DataFrame'>\n",
      "RangeIndex: 100836 entries, 0 to 100835\n",
      "Data columns (total 4 columns):\n",
      " #   Column     Non-Null Count   Dtype  \n",
      "---  ------     --------------   -----  \n",
      " 0   userId     100836 non-null  int64  \n",
      " 1   movieId    100836 non-null  int64  \n",
      " 2   rating     100836 non-null  float64\n",
      " 3   timestamp  100836 non-null  int64  \n",
      "dtypes: float64(1), int64(3)\n",
      "memory usage: 3.1 MB\n"
     ]
    },
    {
     "data": {
      "text/plain": [
       "None"
      ]
     },
     "metadata": {},
     "output_type": "display_data"
    },
    {
     "name": "stdout",
     "output_type": "stream",
     "text": [
      "-------------------------------------------------------------------------\n",
      "              userId        movieId         rating     timestamp\n",
      "count  100836.000000  100836.000000  100836.000000  1.008360e+05\n",
      "mean      326.127564   19435.295718       3.501557  1.205946e+09\n",
      "std       182.618491   35530.987199       1.042529  2.162610e+08\n",
      "min         1.000000       1.000000       0.500000  8.281246e+08\n",
      "25%       177.000000    1199.000000       3.000000  1.019124e+09\n",
      "50%       325.000000    2991.000000       3.500000  1.186087e+09\n",
      "75%       477.000000    8122.000000       4.000000  1.435994e+09\n",
      "max       610.000000  193609.000000       5.000000  1.537799e+09\n",
      "-------------------------------------------------------------------------\n"
     ]
    }
   ],
   "source": [
    "# Load Ratings dataset (for extra movie information)\n",
    "ratings_df = pd.read_csv('ratings.csv')\n",
    "display(ratings_df.head())\n",
    "print('-------------------------------------------------------------------------')\n",
    "display(ratings_df.info())\n",
    "print('-------------------------------------------------------------------------')\n",
    "# Get summary statistics\n",
    "print(ratings_df.describe(include='all'))\n",
    "print('-------------------------------------------------------------------------')\n"
   ]
  },
  {
   "cell_type": "markdown",
   "metadata": {},
   "source": [
    "### Column Descriptions\n",
    "\n",
    "**1. userId:** - Unique integer identifier for each user, used to track individual activity.  \n",
    "**2. movieId:** - Unique integer identifier for each movie, linking ratings to specific films.  \n",
    "**3. rating:** - Floating-point number representing the user's rating for a movie (typically 1 to 5).  \n",
    "**4. timestamp:** - Integer representing the exact time the rating was made (likely in Unix format).\n"
   ]
  },
  {
   "cell_type": "markdown",
   "metadata": {},
   "source": [
    " ### Ratings by User Count vs Movie Count (Scatter Plot)\n",
    " \n",
    "This is a scatter plot of ratings per user against ratings per movie to  reveal patterns or anomalies, such as users who rate a disproportionate number of movies or movies with an unusual number of ratings.\n",
    "we will plot this by Aggregating the ratings by userId and movieId and plot a scatter plot.\n",
    "\n"
   ]
  },
  {
   "cell_type": "code",
   "execution_count": 4,
   "metadata": {},
   "outputs": [
    {
     "data": {
      "image/png": "[encoded data removed]",
      "text/plain": [
       "<Figure size 432x288 with 1 Axes>"
      ]
     },
     "metadata": {
      "needs_background": "light"
     },
     "output_type": "display_data"
    }
   ],
   "source": [
    "# Get the count of ratings per user and per movie\n",
    "user_ratings = ratings_df.groupby('userId').size()\n",
    "movie_ratings = ratings_df.groupby('movieId').size()\n",
    "\n",
    "# Randomly sample 100 data points to make the lengths match\n",
    "user_ratings_sample = user_ratings.sample(100, random_state=42)\n",
    "movie_ratings_sample = movie_ratings.sample(100, random_state=42)\n",
    "\n",
    "# Scatter plot\n",
    "plt.scatter(user_ratings_sample, movie_ratings_sample, alpha=0.5)\n",
    "plt.title('Ratings per User vs Ratings per Movie')\n",
    "plt.xlabel('Ratings per User')\n",
    "plt.ylabel('Ratings per Movie')\n",
    "plt.show()\n"
   ]
  },
  {
   "cell_type": "markdown",
   "metadata": {},
   "source": [
    "### LINKS csv file\n"
   ]
  },
  {
   "cell_type": "code",
   "execution_count": 5,
   "metadata": {
    "scrolled": true
   },
   "outputs": [
    {
     "data": {
      "text/html": [
       "<div>\n",
       "<style scoped>\n",
       "    .dataframe tbody tr th:only-of-type {\n",
       "        vertical-align: middle;\n",
       "    }\n",
       "\n",
       "    .dataframe tbody tr th {\n",
       "        vertical-align: top;\n",
       "    }\n",
       "\n",
       "    .dataframe thead th {\n",
       "        text-align: right;\n",
       "    }\n",
       "</style>\n",
       "<table border=\"1\" class=\"dataframe\">\n",
       "  <thead>\n",
       "    <tr style=\"text-align: right;\">\n",
       "      <th></th>\n",
       "      <th>movieId</th>\n",
       "      <th>imdbId</th>\n",
       "      <th>tmdbId</th>\n",
       "    </tr>\n",
       "  </thead>\n",
       "  <tbody>\n",
       "    <tr>\n",
       "      <th>0</th>\n",
       "      <td>1</td>\n",
       "      <td>114709</td>\n",
       "      <td>862.0</td>\n",
       "    </tr>\n",
       "    <tr>\n",
       "      <th>1</th>\n",
       "      <td>2</td>\n",
       "      <td>113497</td>\n",
       "      <td>8844.0</td>\n",
       "    </tr>\n",
       "    <tr>\n",
       "      <th>2</th>\n",
       "      <td>3</td>\n",
       "      <td>113228</td>\n",
       "      <td>15602.0</td>\n",
       "    </tr>\n",
       "    <tr>\n",
       "      <th>3</th>\n",
       "      <td>4</td>\n",
       "      <td>114885</td>\n",
       "      <td>31357.0</td>\n",
       "    </tr>\n",
       "    <tr>\n",
       "      <th>4</th>\n",
       "      <td>5</td>\n",
       "      <td>113041</td>\n",
       "      <td>11862.0</td>\n",
       "    </tr>\n",
       "  </tbody>\n",
       "</table>\n",
       "</div>"
      ],
      "text/plain": [
       "   movieId  imdbId   tmdbId\n",
       "0        1  114709    862.0\n",
       "1        2  113497   8844.0\n",
       "2        3  113228  15602.0\n",
       "3        4  114885  31357.0\n",
       "4        5  113041  11862.0"
      ]
     },
     "metadata": {},
     "output_type": "display_data"
    },
    {
     "name": "stdout",
     "output_type": "stream",
     "text": [
      "-------------------------------------------------------------------------\n",
      "<class 'pandas.core.frame.DataFrame'>\n",
      "RangeIndex: 9742 entries, 0 to 9741\n",
      "Data columns (total 3 columns):\n",
      " #   Column   Non-Null Count  Dtype  \n",
      "---  ------   --------------  -----  \n",
      " 0   movieId  9742 non-null   int64  \n",
      " 1   imdbId   9742 non-null   int64  \n",
      " 2   tmdbId   9734 non-null   float64\n",
      "dtypes: float64(1), int64(2)\n",
      "memory usage: 228.5 KB\n"
     ]
    },
    {
     "data": {
      "text/plain": [
       "None"
      ]
     },
     "metadata": {},
     "output_type": "display_data"
    },
    {
     "name": "stdout",
     "output_type": "stream",
     "text": [
      "-------------------------------------------------------------------------\n",
      "             movieId        imdbId         tmdbId\n",
      "count    9742.000000  9.742000e+03    9734.000000\n",
      "mean    42200.353623  6.771839e+05   55162.123793\n",
      "std     52160.494854  1.107228e+06   93653.481487\n",
      "min         1.000000  4.170000e+02       2.000000\n",
      "25%      3248.250000  9.518075e+04    9665.500000\n",
      "50%      7300.000000  1.672605e+05   16529.000000\n",
      "75%     76232.000000  8.055685e+05   44205.750000\n",
      "max    193609.000000  8.391976e+06  525662.000000\n",
      "-------------------------------------------------------------------------\n"
     ]
    }
   ],
   "source": [
    "# Load links dataset (for extra movie information)\n",
    "link_df = pd.read_csv('links.csv')\n",
    "display(link_df.head())\n",
    "print('-------------------------------------------------------------------------')\n",
    "display(link_df.info())\n",
    "print('-------------------------------------------------------------------------')\n",
    "# Get summary statistics\n",
    "print(link_df.describe(include='all'))\n",
    "print('-------------------------------------------------------------------------')\n",
    "\n"
   ]
  },
  {
   "cell_type": "markdown",
   "metadata": {},
   "source": [
    "### Dataset Purpose\n",
    "\n",
    "This dataset is;\n",
    "\n",
    "1. A mapping table that connects a movie's internal ID (movieId) with its external IDs (imdbId and tmdbId).\n",
    "\n",
    "2. A reference dataset for integrating metadata from IMDb or TMDb to enrich a larger movie-related dataset (e.g., adding genres, ratings, or descriptions).\n",
    "\n",
    "3. A foundational dataset for tasks like building recommendation systems, where movieId is used internally, while imdbId and tmdbId allow access to external metadata."
   ]
  },
  {
   "cell_type": "markdown",
   "metadata": {},
   "source": [
    "### Columns Description\n",
    "\n",
    "**1. movieId:** - Unique identifier for movies, used to link with ratings or other attributes.  \n",
    "**2. imdbId:** - Unique identifier for the movie on IMDb, useful for cross-referencing data.  \n",
    "**3. tmdbId:** - Unique identifier for the movie on TMDb, used for accessing metadata and APIs.\n"
   ]
  },
  {
   "cell_type": "markdown",
   "metadata": {},
   "source": [
    "### Key Observations:\n",
    "\n",
    "Our links dataframe has 3 columns and 9742;\n",
    "\n",
    "***movieId and imdbId*** are of type int64, meaning they contain integer values and \n",
    "both columns have no missing values (non-null count matches total row count).\n",
    "\n",
    "***tmdbId***  is of type float64, indicating it contains numerical data but may include decimal points (even if the values are mostly integers). we also notice it has 8 missing values (9734 non-null out of 9742)."
   ]
  },
  {
   "cell_type": "markdown",
   "metadata": {},
   "source": [
    "### Visualizing the Distribution of all three columns"
   ]
  },
  {
   "cell_type": "code",
   "execution_count": 6,
   "metadata": {},
   "outputs": [
    {
     "data": {
      "text/plain": [
       "<function matplotlib.pyplot.show(close=None, block=None)>"
      ]
     },
     "execution_count": 6,
     "metadata": {},
     "output_type": "execute_result"
    },
    {
     "data": {
      "image/png": "[encoded data removed]",
      "text/plain": [
       "<Figure size 1080x360 with 3 Axes>"
      ]
     },
     "metadata": {
      "needs_background": "light"
     },
     "output_type": "display_data"
    }
   ],
   "source": [
    "# Create a figure and axes\n",
    "fig, axes = plt.subplots(1, 3, figsize=(15, 5), sharey=True)\n",
    "\n",
    "# Plot the distributions for each column using plt.hist()\n",
    "axes[0].hist(link_df['movieId'], bins=20, color='blue')\n",
    "axes[0].set_title('Distribution of Movie IDs')\n",
    "axes[0].set_xlabel('Movie ID')\n",
    "axes[0].set_ylabel('Frequency')\n",
    "\n",
    "axes[1].hist(link_df['imdbId'], bins=20, color='green')\n",
    "axes[1].set_title('Distribution of IMDb IDs')\n",
    "axes[1].set_xlabel('IMDb ID')\n",
    "\n",
    "# For tmdbId, drop NaN values before plotting\n",
    "axes[2].hist(link_df['tmdbId'].dropna(), bins=20, color='red')\n",
    "axes[2].set_title('Distribution of TMDb IDs')\n",
    "axes[2].set_xlabel('TMDb ID')\n",
    "\n",
    "# Set the overall layout to prevent overlap\n",
    "plt.tight_layout()\n",
    "plt.show\n"
   ]
  },
  {
   "cell_type": "markdown",
   "metadata": {},
   "source": [
    "### TAGS csv file"
   ]
  },
  {
   "cell_type": "code",
   "execution_count": 7,
   "metadata": {},
   "outputs": [
    {
     "name": "stdout",
     "output_type": "stream",
     "text": [
      "### Display the first few rows\n"
     ]
    },
    {
     "data": {
      "text/html": [
       "<div>\n",
       "<style scoped>\n",
       "    .dataframe tbody tr th:only-of-type {\n",
       "        vertical-align: middle;\n",
       "    }\n",
       "\n",
       "    .dataframe tbody tr th {\n",
       "        vertical-align: top;\n",
       "    }\n",
       "\n",
       "    .dataframe thead th {\n",
       "        text-align: right;\n",
       "    }\n",
       "</style>\n",
       "<table border=\"1\" class=\"dataframe\">\n",
       "  <thead>\n",
       "    <tr style=\"text-align: right;\">\n",
       "      <th></th>\n",
       "      <th>userId</th>\n",
       "      <th>movieId</th>\n",
       "      <th>tag</th>\n",
       "      <th>timestamp</th>\n",
       "    </tr>\n",
       "  </thead>\n",
       "  <tbody>\n",
       "    <tr>\n",
       "      <th>0</th>\n",
       "      <td>2</td>\n",
       "      <td>60756</td>\n",
       "      <td>funny</td>\n",
       "      <td>1445714994</td>\n",
       "    </tr>\n",
       "    <tr>\n",
       "      <th>1</th>\n",
       "      <td>2</td>\n",
       "      <td>60756</td>\n",
       "      <td>Highly quotable</td>\n",
       "      <td>1445714996</td>\n",
       "    </tr>\n",
       "    <tr>\n",
       "      <th>2</th>\n",
       "      <td>2</td>\n",
       "      <td>60756</td>\n",
       "      <td>will ferrell</td>\n",
       "      <td>1445714992</td>\n",
       "    </tr>\n",
       "    <tr>\n",
       "      <th>3</th>\n",
       "      <td>2</td>\n",
       "      <td>89774</td>\n",
       "      <td>Boxing story</td>\n",
       "      <td>1445715207</td>\n",
       "    </tr>\n",
       "    <tr>\n",
       "      <th>4</th>\n",
       "      <td>2</td>\n",
       "      <td>89774</td>\n",
       "      <td>MMA</td>\n",
       "      <td>1445715200</td>\n",
       "    </tr>\n",
       "  </tbody>\n",
       "</table>\n",
       "</div>"
      ],
      "text/plain": [
       "   userId  movieId              tag   timestamp\n",
       "0       2    60756            funny  1445714994\n",
       "1       2    60756  Highly quotable  1445714996\n",
       "2       2    60756     will ferrell  1445714992\n",
       "3       2    89774     Boxing story  1445715207\n",
       "4       2    89774              MMA  1445715200"
      ]
     },
     "metadata": {},
     "output_type": "display_data"
    },
    {
     "name": "stdout",
     "output_type": "stream",
     "text": [
      "-------------------------------------------------------------------------\n",
      "### DataFrame Information\n",
      "<class 'pandas.core.frame.DataFrame'>\n",
      "RangeIndex: 3683 entries, 0 to 3682\n",
      "Data columns (total 4 columns):\n",
      " #   Column     Non-Null Count  Dtype \n",
      "---  ------     --------------  ----- \n",
      " 0   userId     3683 non-null   int64 \n",
      " 1   movieId    3683 non-null   int64 \n",
      " 2   tag        3683 non-null   object\n",
      " 3   timestamp  3683 non-null   int64 \n",
      "dtypes: int64(3), object(1)\n",
      "memory usage: 115.2+ KB\n"
     ]
    },
    {
     "data": {
      "text/plain": [
       "None"
      ]
     },
     "metadata": {},
     "output_type": "display_data"
    },
    {
     "name": "stdout",
     "output_type": "stream",
     "text": [
      "-------------------------------------------------------------------------\n",
      "### Summary Statistics\n",
      "             userId        movieId               tag     timestamp\n",
      "count   3683.000000    3683.000000              3683  3.683000e+03\n",
      "unique          NaN            NaN              1589           NaN\n",
      "top             NaN            NaN  In Netflix queue           NaN\n",
      "freq            NaN            NaN               131           NaN\n",
      "mean     431.149335   27252.013576               NaN  1.320032e+09\n",
      "std      158.472553   43490.558803               NaN  1.721025e+08\n",
      "min        2.000000       1.000000               NaN  1.137179e+09\n",
      "25%      424.000000    1262.500000               NaN  1.137521e+09\n",
      "50%      474.000000    4454.000000               NaN  1.269833e+09\n",
      "75%      477.000000   39263.000000               NaN  1.498457e+09\n",
      "max      610.000000  193565.000000               NaN  1.537099e+09\n",
      "-------------------------------------------------------------------------\n",
      "### Unique Tags\n",
      "-------------------------------------------------------------------------\n",
      "### First 10 Unique Tags\n",
      "['funny' 'Highly quotable' 'will ferrell' 'Boxing story' 'MMA' 'Tom Hardy'\n",
      " 'drugs' 'Leonardo DiCaprio' 'Martin Scorsese' 'way too long']\n",
      "-------------------------------------------------------------------------\n",
      "### Missing Values in 'tag' Column\n",
      "0\n"
     ]
    }
   ],
   "source": [
    "#read the file\n",
    "tags=pd.read_csv('tags.csv')\n",
    "# Display the first few rows of the dataframe\n",
    "print(\"### Display the first few rows\")\n",
    "display(tags.head())\n",
    "print('-------------------------------------------------------------------------')\n",
    "\n",
    "# Display basic information about the dataframe\n",
    "print(\"### DataFrame Information\")\n",
    "display(tags.info())\n",
    "print('-------------------------------------------------------------------------')\n",
    "\n",
    "# Get summary statistics\n",
    "print(\"### Summary Statistics\")\n",
    "print(tags.describe(include='all'))\n",
    "print('-------------------------------------------------------------------------')\n",
    "\n",
    "# Get the unique tags\n",
    "print(\"### Unique Tags\")\n",
    "unique_tags = tags['tag'].unique()\n",
    "print('-------------------------------------------------------------------------')\n",
    "\n",
    "# Display the first 10 unique tags\n",
    "print(\"### First 10 Unique Tags\")\n",
    "print(unique_tags[:10])\n",
    "print('-------------------------------------------------------------------------')\n",
    "\n",
    "# Count missing values in 'tag' column\n",
    "print(\"### Missing Values in 'tag' Column\")\n",
    "print(tags['tag'].isnull().sum())\n"
   ]
  },
  {
   "cell_type": "markdown",
   "metadata": {},
   "source": [
    "### Columns Description\n",
    "\n",
    "**userId (int64):** - Unique identifier for each user. A user can have multiple entries.  \n",
    "**movieId (int64):** - Unique identifier for each movie, linked to multiple user tags.  \n",
    "**tag (object):** - Text labels describing a movie (e.g., genres or personal descriptors).  \n",
    "**timestamp (int64):** - Time when the tag was assigned, typically in Unix timestamp format.\n"
   ]
  },
  {
   "cell_type": "markdown",
   "metadata": {},
   "source": [
    "### Tagging Trends By TimeStamp\n",
    "\n",
    "A Line Plot Showing how the total number of tags has changed over time. This will help visualize trends or spikes in user tagging activity.\n",
    "\n",
    "X-axis: Timestamp (grouped by time period like day, month, or year)\n",
    "\n",
    "Y-axis: Total number of tags"
   ]
  },
  {
   "cell_type": "code",
   "execution_count": 8,
   "metadata": {},
   "outputs": [
    {
     "data": {
      "image/png": "[encoded data removed]",
      "text/plain": [
       "<Figure size 720x432 with 1 Axes>"
      ]
     },
     "metadata": {
      "needs_background": "light"
     },
     "output_type": "display_data"
    }
   ],
   "source": [
    "#Converting timestamp to datetime (assuming timestamp is in seconds)\n",
    "tags['timestamp'] = pd.to_datetime(tags['timestamp'], unit='s')\n",
    "\n",
    "# Group by time period (e.g., month, year, or day)\n",
    "tags['month'] = tags['timestamp'].dt.to_period('M')  # You can use 'D' for day, 'Y' for year\n",
    "\n",
    "#Count number of tags per time period\n",
    "tag_count_by_month = tags.groupby('month')['tag'].count()\n",
    "\n",
    "# Plotting the trends\n",
    "plt.figure(figsize=(10, 6))\n",
    "tag_count_by_month.plot(kind='line', marker='o', color='red')\n",
    "plt.title('Tagging Trends by Timestamp')\n",
    "plt.xlabel('Month')\n",
    "plt.ylabel('Total Number of Tags')\n",
    "plt.xticks(rotation=45)\n",
    "plt.grid(True)\n",
    "plt.show()\n"
   ]
  },
  {
   "cell_type": "markdown",
   "metadata": {},
   "source": [
    "## Exploratory Data Analysis"
   ]
  },
  {
   "cell_type": "code",
   "execution_count": 9,
   "metadata": {},
   "outputs": [
    {
     "name": "stdout",
     "output_type": "stream",
     "text": [
      "Number of ratings: 100836\n",
      "Number of unique movieId's: 9742\n",
      "Number of unique users: 610\n",
      "Average number of ratings per user: 165.3\n",
      "Average number of ratings per movie: 10.35\n"
     ]
    }
   ],
   "source": [
    "n_ratings = len(ratings_df)\n",
    "n_movies = len(movies_df)\n",
    "n_users = ratings_df['userId'].nunique()\n",
    "\n",
    "print(f\"Number of ratings: {n_ratings}\")\n",
    "print(f\"Number of unique movieId's: {n_movies}\")\n",
    "print(f\"Number of unique users: {n_users}\")\n",
    "print(f\"Average number of ratings per user: {round(n_ratings/n_users, 2)}\")\n",
    "print(f\"Average number of ratings per movie: {round(n_ratings/n_movies, 2)}\")\n"
   ]
  },
  {
   "cell_type": "markdown",
   "metadata": {},
   "source": [
    "### What is the distribution of movie ratings?"
   ]
  },
  {
   "cell_type": "code",
   "execution_count": 10,
   "metadata": {},
   "outputs": [
    {
     "data": {
      "image/png": "[encoded data removed]",
      "text/plain": [
       "<Figure size 432x288 with 1 Axes>"
      ]
     },
     "metadata": {
      "needs_background": "light"
     },
     "output_type": "display_data"
    },
    {
     "name": "stdout",
     "output_type": "stream",
     "text": [
      "Mean global rating: 3.5.\n"
     ]
    }
   ],
   "source": [
    "sns.countplot(x='rating', data=ratings_df)\n",
    "plt.title(\"Distribution of movie ratings\", fontsize=14)\n",
    "plt.show()\n",
    "\n",
    "print(f\"Mean global rating: {round(ratings_df['rating'].mean(), 2)}.\")\n"
   ]
  },
  {
   "cell_type": "markdown",
   "metadata": {},
   "source": [
    "### Mean Rating Per User"
   ]
  },
  {
   "cell_type": "code",
   "execution_count": 11,
   "metadata": {},
   "outputs": [
    {
     "name": "stdout",
     "output_type": "stream",
     "text": [
      "Mean rating per user: 3.66.\n"
     ]
    }
   ],
   "source": [
    "mean_ratings = ratings_df.groupby('userId')['rating'].mean()\n",
    "print(f\"Mean rating per user: {round(mean_ratings.mean(), 2)}.\")\n"
   ]
  },
  {
   "cell_type": "markdown",
   "metadata": {},
   "source": [
    "### Which Movies are Most Frequently Rated?"
   ]
  },
  {
   "cell_type": "code",
   "execution_count": 12,
   "metadata": {},
   "outputs": [
    {
     "data": {
      "text/plain": [
       "title\n",
       "Forrest Gump (1994)                          329\n",
       "Shawshank Redemption, The (1994)             317\n",
       "Pulp Fiction (1994)                          307\n",
       "Silence of the Lambs, The (1991)             279\n",
       "Matrix, The (1999)                           278\n",
       "Star Wars: Episode IV - A New Hope (1977)    251\n",
       "Jurassic Park (1993)                         238\n",
       "Braveheart (1995)                            237\n",
       "Terminator 2: Judgment Day (1991)            224\n",
       "Schindler's List (1993)                      220\n",
       "Name: count, dtype: int64"
      ]
     },
     "execution_count": 12,
     "metadata": {},
     "output_type": "execute_result"
    }
   ],
   "source": [
    "movie_ratings = ratings_df.merge(movies_df, on='movieId')\n",
    "top_movies = movie_ratings['title'].value_counts().head(10)\n",
    "top_movies\n"
   ]
  },
  {
   "cell_type": "markdown",
   "metadata": {},
   "source": [
    "### What are the Lowest and Highest Rated Movies?"
   ]
  },
  {
   "cell_type": "code",
   "execution_count": 13,
   "metadata": {},
   "outputs": [
    {
     "name": "stdout",
     "output_type": "stream",
     "text": [
      "Lowest rated movie: Gypsy (1962)\n",
      "Highest rated movie: Lamerica (1994)\n"
     ]
    }
   ],
   "source": [
    "mean_ratings_movie = ratings_df.groupby('movieId')['rating'].mean()\n",
    "lowest_rated = mean_ratings_movie.idxmin()\n",
    "highest_rated = mean_ratings_movie.idxmax()\n",
    "\n",
    "print(f\"Lowest rated movie: {movies_df[movies_df['movieId'] == lowest_rated]['title'].values[0]}\")\n",
    "print(f\"Highest rated movie: {movies_df[movies_df['movieId'] == highest_rated]['title'].values[0]}\")\n"
   ]
  },
  {
   "cell_type": "markdown",
   "metadata": {},
   "source": [
    "## Bayesian Average\n",
    "\n",
    "Bayesian Average is defined as:\n",
    "\n",
    "$$\n",
    "\\text{Bayesian Average} = \\frac{C \\times m + R \\times n}{n + m}\n",
    "$$\n",
    "\n",
    "Where:\n",
    "\n",
    "- \\( C \\) represents our confidence,\n",
    "- \\( m \\) represents our prior,\n",
    "- \\( n \\) is the total number of reviews for movie \\( i \\),\n",
    "- \\( R \\) is the average rating across all movies.\n"
   ]
  },
  {
   "cell_type": "code",
   "execution_count": 14,
   "metadata": {},
   "outputs": [
    {
     "data": {
      "text/html": [
       "<div>\n",
       "<style scoped>\n",
       "    .dataframe tbody tr th:only-of-type {\n",
       "        vertical-align: middle;\n",
       "    }\n",
       "\n",
       "    .dataframe tbody tr th {\n",
       "        vertical-align: top;\n",
       "    }\n",
       "\n",
       "    .dataframe thead th {\n",
       "        text-align: right;\n",
       "    }\n",
       "</style>\n",
       "<table border=\"1\" class=\"dataframe\">\n",
       "  <thead>\n",
       "    <tr style=\"text-align: right;\">\n",
       "      <th></th>\n",
       "      <th>count</th>\n",
       "      <th>mean</th>\n",
       "    </tr>\n",
       "    <tr>\n",
       "      <th>movieId</th>\n",
       "      <th></th>\n",
       "      <th></th>\n",
       "    </tr>\n",
       "  </thead>\n",
       "  <tbody>\n",
       "    <tr>\n",
       "      <th>1</th>\n",
       "      <td>215</td>\n",
       "      <td>3.920930</td>\n",
       "    </tr>\n",
       "    <tr>\n",
       "      <th>2</th>\n",
       "      <td>110</td>\n",
       "      <td>3.431818</td>\n",
       "    </tr>\n",
       "    <tr>\n",
       "      <th>3</th>\n",
       "      <td>52</td>\n",
       "      <td>3.259615</td>\n",
       "    </tr>\n",
       "    <tr>\n",
       "      <th>4</th>\n",
       "      <td>7</td>\n",
       "      <td>2.357143</td>\n",
       "    </tr>\n",
       "    <tr>\n",
       "      <th>5</th>\n",
       "      <td>49</td>\n",
       "      <td>3.071429</td>\n",
       "    </tr>\n",
       "  </tbody>\n",
       "</table>\n",
       "</div>"
      ],
      "text/plain": [
       "         count      mean\n",
       "movieId                 \n",
       "1          215  3.920930\n",
       "2          110  3.431818\n",
       "3           52  3.259615\n",
       "4            7  2.357143\n",
       "5           49  3.071429"
      ]
     },
     "execution_count": 14,
     "metadata": {},
     "output_type": "execute_result"
    }
   ],
   "source": [
    "movie_stats = ratings_df.groupby('movieId')['rating'].agg(['count', 'mean'])\n",
    "movie_stats.head()"
   ]
  },
  {
   "cell_type": "code",
   "execution_count": 15,
   "metadata": {},
   "outputs": [
    {
     "name": "stdout",
     "output_type": "stream",
     "text": [
      "Average number of ratings for a given movie: 10.37\n",
      "Average rating for a given movie: 3.26\n"
     ]
    }
   ],
   "source": [
    "C = movie_stats['count'].mean()\n",
    "m = movie_stats['mean'].mean()\n",
    "\n",
    "print(f\"Average number of ratings for a given movie: {C:.2f}\")\n",
    "print(f\"Average rating for a given movie: {m:.2f}\")\n",
    "\n",
    "def bayesian_avg(ratings):\n",
    "    bayesian_avg = (C*m+ratings.sum())/(C+ratings.count())\n",
    "    return round(bayesian_avg, 3)"
   ]
  },
  {
   "cell_type": "code",
   "execution_count": 16,
   "metadata": {},
   "outputs": [
    {
     "data": {
      "text/plain": [
       "3.543"
      ]
     },
     "execution_count": 16,
     "metadata": {},
     "output_type": "execute_result"
    }
   ],
   "source": [
    "lamerica = pd.Series([5, 5])\n",
    "bayesian_avg(lamerica)"
   ]
  },
  {
   "cell_type": "code",
   "execution_count": 17,
   "metadata": {},
   "outputs": [
    {
     "data": {
      "text/html": [
       "<div>\n",
       "<style scoped>\n",
       "    .dataframe tbody tr th:only-of-type {\n",
       "        vertical-align: middle;\n",
       "    }\n",
       "\n",
       "    .dataframe tbody tr th {\n",
       "        vertical-align: top;\n",
       "    }\n",
       "\n",
       "    .dataframe thead th {\n",
       "        text-align: right;\n",
       "    }\n",
       "</style>\n",
       "<table border=\"1\" class=\"dataframe\">\n",
       "  <thead>\n",
       "    <tr style=\"text-align: right;\">\n",
       "      <th></th>\n",
       "      <th>movieId</th>\n",
       "      <th>count</th>\n",
       "      <th>mean</th>\n",
       "      <th>bayesian_avg</th>\n",
       "      <th>title</th>\n",
       "    </tr>\n",
       "  </thead>\n",
       "  <tbody>\n",
       "    <tr>\n",
       "      <th>277</th>\n",
       "      <td>318</td>\n",
       "      <td>317</td>\n",
       "      <td>4.429022</td>\n",
       "      <td>4.392</td>\n",
       "      <td>Shawshank Redemption, The (1994)</td>\n",
       "    </tr>\n",
       "    <tr>\n",
       "      <th>659</th>\n",
       "      <td>858</td>\n",
       "      <td>192</td>\n",
       "      <td>4.289062</td>\n",
       "      <td>4.236</td>\n",
       "      <td>Godfather, The (1972)</td>\n",
       "    </tr>\n",
       "    <tr>\n",
       "      <th>2224</th>\n",
       "      <td>2959</td>\n",
       "      <td>218</td>\n",
       "      <td>4.272936</td>\n",
       "      <td>4.227</td>\n",
       "      <td>Fight Club (1999)</td>\n",
       "    </tr>\n",
       "    <tr>\n",
       "      <th>224</th>\n",
       "      <td>260</td>\n",
       "      <td>251</td>\n",
       "      <td>4.231076</td>\n",
       "      <td>4.193</td>\n",
       "      <td>Star Wars: Episode IV - A New Hope (1977)</td>\n",
       "    </tr>\n",
       "    <tr>\n",
       "      <th>46</th>\n",
       "      <td>50</td>\n",
       "      <td>204</td>\n",
       "      <td>4.237745</td>\n",
       "      <td>4.191</td>\n",
       "      <td>Usual Suspects, The (1995)</td>\n",
       "    </tr>\n",
       "  </tbody>\n",
       "</table>\n",
       "</div>"
      ],
      "text/plain": [
       "      movieId  count      mean  bayesian_avg  \\\n",
       "277       318    317  4.429022         4.392   \n",
       "659       858    192  4.289062         4.236   \n",
       "2224     2959    218  4.272936         4.227   \n",
       "224       260    251  4.231076         4.193   \n",
       "46         50    204  4.237745         4.191   \n",
       "\n",
       "                                          title  \n",
       "277            Shawshank Redemption, The (1994)  \n",
       "659                       Godfather, The (1972)  \n",
       "2224                          Fight Club (1999)  \n",
       "224   Star Wars: Episode IV - A New Hope (1977)  \n",
       "46                   Usual Suspects, The (1995)  "
      ]
     },
     "execution_count": 17,
     "metadata": {},
     "output_type": "execute_result"
    }
   ],
   "source": [
    "# apply bayesian_avg to all movies in our dataset.\n",
    "bayesian_avg_ratings = ratings_df.groupby('movieId')['rating'].agg(bayesian_avg).reset_index()\n",
    "bayesian_avg_ratings.columns = ['movieId', 'bayesian_avg']\n",
    "movie_stats = movie_stats.merge(bayesian_avg_ratings, on='movieId')\n",
    "movie_stats = movie_stats.merge(movies_df[['movieId', 'title']])\n",
    "movie_stats.sort_values('bayesian_avg', ascending=False).head()"
   ]
  },
  {
   "cell_type": "markdown",
   "metadata": {},
   "source": [
    "Using the Bayesian average, we see that Shawshank Redemption, The Godfather, and Fight Club are the most highly rated movies. This result makes much more sense since these movies are critically acclaimed films."
   ]
  },
  {
   "cell_type": "code",
   "execution_count": 18,
   "metadata": {},
   "outputs": [
    {
     "data": {
      "text/html": [
       "<div>\n",
       "<style scoped>\n",
       "    .dataframe tbody tr th:only-of-type {\n",
       "        vertical-align: middle;\n",
       "    }\n",
       "\n",
       "    .dataframe tbody tr th {\n",
       "        vertical-align: top;\n",
       "    }\n",
       "\n",
       "    .dataframe thead th {\n",
       "        text-align: right;\n",
       "    }\n",
       "</style>\n",
       "<table border=\"1\" class=\"dataframe\">\n",
       "  <thead>\n",
       "    <tr style=\"text-align: right;\">\n",
       "      <th></th>\n",
       "      <th>movieId</th>\n",
       "      <th>count</th>\n",
       "      <th>mean</th>\n",
       "      <th>bayesian_avg</th>\n",
       "      <th>title</th>\n",
       "    </tr>\n",
       "  </thead>\n",
       "  <tbody>\n",
       "    <tr>\n",
       "      <th>1172</th>\n",
       "      <td>1556</td>\n",
       "      <td>19</td>\n",
       "      <td>1.605263</td>\n",
       "      <td>2.190</td>\n",
       "      <td>Speed 2: Cruise Control (1997)</td>\n",
       "    </tr>\n",
       "    <tr>\n",
       "      <th>2679</th>\n",
       "      <td>3593</td>\n",
       "      <td>19</td>\n",
       "      <td>1.657895</td>\n",
       "      <td>2.224</td>\n",
       "      <td>Battlefield Earth (2000)</td>\n",
       "    </tr>\n",
       "    <tr>\n",
       "      <th>1372</th>\n",
       "      <td>1882</td>\n",
       "      <td>33</td>\n",
       "      <td>1.954545</td>\n",
       "      <td>2.267</td>\n",
       "      <td>Godzilla (1998)</td>\n",
       "    </tr>\n",
       "    <tr>\n",
       "      <th>1144</th>\n",
       "      <td>1499</td>\n",
       "      <td>27</td>\n",
       "      <td>1.925926</td>\n",
       "      <td>2.297</td>\n",
       "      <td>Anaconda (1997)</td>\n",
       "    </tr>\n",
       "    <tr>\n",
       "      <th>1988</th>\n",
       "      <td>2643</td>\n",
       "      <td>16</td>\n",
       "      <td>1.687500</td>\n",
       "      <td>2.307</td>\n",
       "      <td>Superman IV: The Quest for Peace (1987)</td>\n",
       "    </tr>\n",
       "  </tbody>\n",
       "</table>\n",
       "</div>"
      ],
      "text/plain": [
       "      movieId  count      mean  bayesian_avg  \\\n",
       "1172     1556     19  1.605263         2.190   \n",
       "2679     3593     19  1.657895         2.224   \n",
       "1372     1882     33  1.954545         2.267   \n",
       "1144     1499     27  1.925926         2.297   \n",
       "1988     2643     16  1.687500         2.307   \n",
       "\n",
       "                                        title  \n",
       "1172           Speed 2: Cruise Control (1997)  \n",
       "2679                 Battlefield Earth (2000)  \n",
       "1372                          Godzilla (1998)  \n",
       "1144                          Anaconda (1997)  \n",
       "1988  Superman IV: The Quest for Peace (1987)  "
      ]
     },
     "execution_count": 18,
     "metadata": {},
     "output_type": "execute_result"
    }
   ],
   "source": [
    "movie_stats.sort_values('bayesian_avg', ascending=True).head()"
   ]
  },
  {
   "cell_type": "code",
   "execution_count": null,
   "metadata": {},
   "outputs": [],
   "source": []
  },
  {
   "cell_type": "markdown",
   "metadata": {},
   "source": [
    "### Exploring Movie Genres\n",
    "\n",
    "To better analyze the genres and titles in the movie dataset, we need to perform some data cleaning. Specifically, the following tasks need to be addressed:\n",
    "\n",
    "### 1. **Cleaning the 'genres' Column**\n",
    "\n",
    "The `genres` column contains genre names as a single string, with genres separated by a pipe (`|`). For easier manipulation, we will split this column into a list of genres for each movie. This will allow for more efficient analysis of individual genres and their relationships to other attributes in the dataset.\n",
    "\n",
    "### 2. **Extracting the Year from the 'title' Column**\n",
    "\n",
    "The `title` column contains the year of release at the end of the movie title in parentheses. For better usability and to facilitate analysis based on year, we will extract the year from the title and store it in a new column called `year`. This will make it easier to work with the data when performing time-based analysis or sorting movies by release year.\n"
   ]
  },
  {
   "cell_type": "code",
   "execution_count": 19,
   "metadata": {},
   "outputs": [
    {
     "data": {
      "text/html": [
       "<div>\n",
       "<style scoped>\n",
       "    .dataframe tbody tr th:only-of-type {\n",
       "        vertical-align: middle;\n",
       "    }\n",
       "\n",
       "    .dataframe tbody tr th {\n",
       "        vertical-align: top;\n",
       "    }\n",
       "\n",
       "    .dataframe thead th {\n",
       "        text-align: right;\n",
       "    }\n",
       "</style>\n",
       "<table border=\"1\" class=\"dataframe\">\n",
       "  <thead>\n",
       "    <tr style=\"text-align: right;\">\n",
       "      <th></th>\n",
       "      <th>movieId</th>\n",
       "      <th>title</th>\n",
       "      <th>genres</th>\n",
       "    </tr>\n",
       "  </thead>\n",
       "  <tbody>\n",
       "    <tr>\n",
       "      <th>0</th>\n",
       "      <td>1</td>\n",
       "      <td>Toy Story (1995)</td>\n",
       "      <td>[Adventure, Animation, Children, Comedy, Fantasy]</td>\n",
       "    </tr>\n",
       "    <tr>\n",
       "      <th>1</th>\n",
       "      <td>2</td>\n",
       "      <td>Jumanji (1995)</td>\n",
       "      <td>[Adventure, Children, Fantasy]</td>\n",
       "    </tr>\n",
       "    <tr>\n",
       "      <th>2</th>\n",
       "      <td>3</td>\n",
       "      <td>Grumpier Old Men (1995)</td>\n",
       "      <td>[Comedy, Romance]</td>\n",
       "    </tr>\n",
       "    <tr>\n",
       "      <th>3</th>\n",
       "      <td>4</td>\n",
       "      <td>Waiting to Exhale (1995)</td>\n",
       "      <td>[Comedy, Drama, Romance]</td>\n",
       "    </tr>\n",
       "    <tr>\n",
       "      <th>4</th>\n",
       "      <td>5</td>\n",
       "      <td>Father of the Bride Part II (1995)</td>\n",
       "      <td>[Comedy]</td>\n",
       "    </tr>\n",
       "  </tbody>\n",
       "</table>\n",
       "</div>"
      ],
      "text/plain": [
       "   movieId                               title  \\\n",
       "0        1                    Toy Story (1995)   \n",
       "1        2                      Jumanji (1995)   \n",
       "2        3             Grumpier Old Men (1995)   \n",
       "3        4            Waiting to Exhale (1995)   \n",
       "4        5  Father of the Bride Part II (1995)   \n",
       "\n",
       "                                              genres  \n",
       "0  [Adventure, Animation, Children, Comedy, Fantasy]  \n",
       "1                     [Adventure, Children, Fantasy]  \n",
       "2                                  [Comedy, Romance]  \n",
       "3                           [Comedy, Drama, Romance]  \n",
       "4                                           [Comedy]  "
      ]
     },
     "execution_count": 19,
     "metadata": {},
     "output_type": "execute_result"
    }
   ],
   "source": [
    "# Split genres by pipe and store as a list\n",
    "movies_df['genres'] = movies_df['genres'].apply(lambda x: x.split(\"|\"))\n",
    "movies_df.head()\n"
   ]
  },
  {
   "cell_type": "markdown",
   "metadata": {},
   "source": [
    "### Analyzing the Number of Movie Genres\n",
    "Let's now check how many unique genres exist in the dataset."
   ]
  },
  {
   "cell_type": "code",
   "execution_count": 20,
   "metadata": {},
   "outputs": [
    {
     "name": "stdout",
     "output_type": "stream",
     "text": [
      "There are 20 genres.\n"
     ]
    },
    {
     "data": {
      "text/plain": [
       "Counter({'Adventure': 1263,\n",
       "         'Animation': 611,\n",
       "         'Children': 664,\n",
       "         'Comedy': 3756,\n",
       "         'Fantasy': 779,\n",
       "         'Romance': 1596,\n",
       "         'Drama': 4361,\n",
       "         'Action': 1828,\n",
       "         'Crime': 1199,\n",
       "         'Thriller': 1894,\n",
       "         'Horror': 978,\n",
       "         'Mystery': 573,\n",
       "         'Sci-Fi': 980,\n",
       "         'War': 382,\n",
       "         'Musical': 334,\n",
       "         'Documentary': 440,\n",
       "         'IMAX': 158,\n",
       "         'Western': 167,\n",
       "         'Film-Noir': 87,\n",
       "         '(no genres listed)': 34})"
      ]
     },
     "execution_count": 20,
     "metadata": {},
     "output_type": "execute_result"
    }
   ],
   "source": [
    "from collections import Counter\n",
    "\n",
    "# Count the frequency of each genre\n",
    "genre_frequency = Counter(g for genres in movies_df['genres'] for g in genres)\n",
    "\n",
    "print(f\"There are {len(genre_frequency)} genres.\")\n",
    "genre_frequency\n"
   ]
  },
  {
   "cell_type": "markdown",
   "metadata": {},
   "source": [
    "### Top 5 Most Common Genres"
   ]
  },
  {
   "cell_type": "code",
   "execution_count": 21,
   "metadata": {},
   "outputs": [
    {
     "name": "stdout",
     "output_type": "stream",
     "text": [
      "The 5 most common genres: \n",
      " [('Drama', 4361), ('Comedy', 3756), ('Thriller', 1894), ('Action', 1828), ('Romance', 1596)]\n"
     ]
    }
   ],
   "source": [
    "# Display the most common genres\n",
    "print(\"The 5 most common genres: \\n\", genre_frequency.most_common(5))\n"
   ]
  },
  {
   "cell_type": "code",
   "execution_count": 22,
   "metadata": {},
   "outputs": [
    {
     "data": {
      "image/png": "[encoded data removed]",
      "text/plain": [
       "<Figure size 432x288 with 1 Axes>"
      ]
     },
     "metadata": {
      "needs_background": "light"
     },
     "output_type": "display_data"
    }
   ],
   "source": [
    "# Prepare the data for visualization\n",
    "genre_frequency_df = pd.DataFrame([genre_frequency]).T.reset_index()\n",
    "genre_frequency_df.columns = ['genre', 'count']\n",
    "\n",
    "# Create a bar plot\n",
    "sns.barplot(x='genre', y='count', data=genre_frequency_df.sort_values(by='count', ascending=False))\n",
    "plt.xticks(rotation=90)\n",
    "plt.show()\n"
   ]
  },
  {
   "cell_type": "markdown",
   "metadata": {},
   "source": [
    "## Data Preparation"
   ]
  },
  {
   "cell_type": "markdown",
   "metadata": {},
   "source": [
    "## Generating a Sparse User-Item Interaction Matrix\n",
    "\n",
    "The `generate_user_item_matrix` function is designed to create a sparse matrix that represents the interactions between users and movies. This matrix is essential for building recommender systems, particularly collaborative filtering models.\n",
    "\n",
    "The resulting matrix is in **Compressed Sparse Row (CSR)** format, which efficiently stores large sparse matrices by only keeping track of non-zero values. This is particularly useful when most of the matrix values are zeros, as it saves memory and computational resources.\n",
    "\n",
    "The function also returns several mappings that make it easier to access user and movie information by their indices. These mappings are necessary for matrix-based operations in recommendation systems, allowing us to efficiently map user and movie IDs to their corresponding indices.\n",
    "\n",
    "### Summary\n",
    "\n",
    "The `generate_user_item_matrix()` function outputs a sparse matrix along with four mapper dictionaries:\n",
    "\n",
    "- **`user_mapper`**: Maps user ID to user index.\n",
    "- **`movie_mapper`**: Maps movie ID to movie index.\n",
    "- **`user_inv_mapper`**: Maps user index to user ID.\n",
    "- **`movie_inv_mapper`**: Maps movie index to movie ID.\n",
    "\n",
    "These dictionaries are essential because they map which row/column of the utility matrix corresponds to which user or movie ID.\n",
    "\n",
    "The user-item matrix itself is a `scipy.sparse.csr_matrix`, which stores the data in a sparse format, keeping memory usage efficient.\n"
   ]
  },
  {
   "cell_type": "code",
   "execution_count": 23,
   "metadata": {},
   "outputs": [],
   "source": [
    "from scipy.sparse import csr_matrix\n",
    "\n",
    "def generate_user_item_matrix(df):\n",
    "    \"\"\"\n",
    "    Generates a sparse user-item interaction matrix (CSR Matrix) from the ratings dataframe.\n",
    "    \n",
    "    Args:\n",
    "        df: A pandas DataFrame with columns: userId, movieId, rating\n",
    "    \n",
    "    Returns:\n",
    "        - X: Sparse matrix (CSR format)\n",
    "        - user_to_idx: Dictionary mapping user ids to user indices\n",
    "        - movie_to_idx: Dictionary mapping movie ids to movie indices\n",
    "        - idx_to_user: Dictionary mapping indices to user ids\n",
    "        - idx_to_movie: Dictionary mapping indices to movie ids\n",
    "    \"\"\"\n",
    "    # Check for missing columns\n",
    "    required_columns = ['userId', 'movieId', 'rating']\n",
    "    if not all(col in df.columns for col in required_columns):\n",
    "        raise ValueError(f\"DataFrame must contain the following columns: {', '.join(required_columns)}\")\n",
    "\n",
    "    # Create mappings for user and movie indices\n",
    "    user_to_idx = {user_id: idx for idx, user_id in enumerate(df['userId'].unique())}\n",
    "    movie_to_idx = {movie_id: idx for idx, movie_id in enumerate(df['movieId'].unique())}\n",
    "    \n",
    "    # Reverse mappings (index to id)\n",
    "    idx_to_user = {idx: user_id for user_id, idx in user_to_idx.items()}\n",
    "    idx_to_movie = {idx: movie_id for movie_id, idx in movie_to_idx.items()}\n",
    "\n",
    "    # Map user/movie ids to indices\n",
    "    user_indices = df['userId'].map(user_to_idx.get).values\n",
    "    movie_indices = df['movieId'].map(movie_to_idx.get).values\n",
    "\n",
    "    # Create the sparse matrix (CSR format)\n",
    "    interaction_matrix = csr_matrix((df['rating'], (user_indices, movie_indices)),\n",
    "                                    shape=(len(user_to_idx), len(movie_to_idx)))\n",
    "\n",
    "    return interaction_matrix, user_to_idx, movie_to_idx, idx_to_user, idx_to_movie\n"
   ]
  },
  {
   "cell_type": "markdown",
   "metadata": {},
   "source": [
    "### Create the User-Item Interaction Matrix"
   ]
  },
  {
   "cell_type": "code",
   "execution_count": 24,
   "metadata": {},
   "outputs": [],
   "source": [
    "# Generate the user-item interaction matrix (CSR format) along with mappings\n",
    "interaction_matrix, user_to_idx, movie_to_idx, idx_to_user, idx_to_movie = generate_user_item_matrix(ratings_df)\n"
   ]
  },
  {
   "cell_type": "markdown",
   "metadata": {},
   "source": [
    "### Calculate and Evaluate Matrix Sparsity\n"
   ]
  },
  {
   "cell_type": "code",
   "execution_count": 25,
   "metadata": {},
   "outputs": [
    {
     "name": "stdout",
     "output_type": "stream",
     "text": [
      "Matrix Sparsity: 1.70%\n"
     ]
    }
   ],
   "source": [
    "# Calculate and print the sparsity of the user-item matrix\n",
    "total_entries = interaction_matrix.shape[0] * interaction_matrix.shape[1]\n",
    "rated_entries = interaction_matrix.nnz\n",
    "sparsity_percentage = (rated_entries / total_entries) * 100\n",
    "print(f\"Matrix Sparsity: {sparsity_percentage:.2f}%\")\n"
   ]
  },
  {
   "cell_type": "markdown",
   "metadata": {},
   "source": [
    "### Evaluate Ratings Distribution per User and Movie"
   ]
  },
  {
   "cell_type": "code",
   "execution_count": 26,
   "metadata": {},
   "outputs": [
    {
     "name": "stdout",
     "output_type": "stream",
     "text": [
      "Most active user rated 2698 movies.\n",
      "Least active user rated 20 movies.\n",
      "Most rated movie has 329 ratings.\n",
      "Least rated movie has 1 ratings.\n"
     ]
    }
   ],
   "source": [
    "# Evaluate the number of ratings per user and movie\n",
    "ratings_per_user = interaction_matrix.getnnz(axis=1)  # Number of ratings per user\n",
    "ratings_per_movie = interaction_matrix.getnnz(axis=0)  # Number of ratings per movie\n",
    "\n",
    "# Output the most/least active users and movies\n",
    "print(f\"Most active user rated {ratings_per_user.max()} movies.\")\n",
    "print(f\"Least active user rated {ratings_per_user.min()} movies.\")\n",
    "print(f\"Most rated movie has {ratings_per_movie.max()} ratings.\")\n",
    "print(f\"Least rated movie has {ratings_per_movie.min()} ratings.\")\n"
   ]
  },
  {
   "cell_type": "markdown",
   "metadata": {},
   "source": [
    "### Distribution of Ratings per User and Movie"
   ]
  },
  {
   "cell_type": "code",
   "execution_count": 27,
   "metadata": {},
   "outputs": [
    {
     "data": {
      "image/png": "[encoded data removed]",
      "text/plain": [
       "<Figure size 1152x432 with 2 Axes>"
      ]
     },
     "metadata": {
      "needs_background": "light"
     },
     "output_type": "display_data"
    }
   ],
   "source": [
    "# Plot the distribution of ratings per user and per movie\n",
    "plt.figure(figsize=(16, 6))\n",
    "\n",
    "# Distribution of ratings per user\n",
    "plt.subplot(1, 2, 1)\n",
    "sns.kdeplot(ratings_per_user, shade=True)\n",
    "plt.xlim(0)\n",
    "plt.title(\"Ratings Distribution per User\", fontsize=14)\n",
    "plt.xlabel(\"Number of ratings per user\")\n",
    "plt.ylabel(\"Density\")\n",
    "\n",
    "# Distribution of ratings per movie\n",
    "plt.subplot(1, 2, 2)\n",
    "sns.kdeplot(ratings_per_movie, shade=True)\n",
    "plt.xlim(0)\n",
    "plt.title(\"Ratings Distribution per Movie\", fontsize=14)\n",
    "plt.xlabel(\"Number of ratings per movie\")\n",
    "plt.ylabel(\"Density\")\n",
    "\n",
    "plt.tight_layout()\n",
    "plt.show()\n"
   ]
  },
  {
   "cell_type": "markdown",
   "metadata": {},
   "source": [
    "## Item-item Recommendations with k-Nearest Neighbors\n",
    "\n",
    "In this step, we will implement item-item recommendations using k-Nearest Neighbors (k-NN). This method recommends movies similar to one a user has interacted with, based on user engagement vectors.\n",
    "\n",
    "### Process:\n",
    "- **Input**: A function takes a `movie_id` and the `user-item matrix X`.\n",
    "- **Similarity Calculation**: We use **cosine similarity** (but you can experiment with Euclidean or Manhattan distance).\n",
    "- **Top k Similar Movies**: The function returns the top `k` most similar movies based on similarity scores.\n",
    "\n",
    "This approach helps recommend movies that are similar to a user's previous ratings or interactions.\n"
   ]
  },
  {
   "cell_type": "code",
   "execution_count": 28,
   "metadata": {},
   "outputs": [],
   "source": [
    "def find_similar_movies(movie_id, interaction_matrix, movie_to_idx, idx_to_movie, k=10, metric='cosine'):\n",
    "    \"\"\"\n",
    "    Finds k-nearest neighbors for a given movie based on user interactions.\n",
    "    \n",
    "    Args:\n",
    "        movie_id: The ID of the movie of interest\n",
    "        interaction_matrix: The user-item interaction matrix (CSR format)\n",
    "        movie_to_idx: Dictionary mapping movie ids to indices\n",
    "        idx_to_movie: Dictionary mapping indices to movie ids\n",
    "        k: Number of similar movies to retrieve\n",
    "        metric: Distance metric for kNN (default is 'cosine')\n",
    "        \n",
    "    Returns:\n",
    "        List of k similar movie IDs\n",
    "    \"\"\"\n",
    "    # Transpose the matrix to treat movies as rows (i.e., each row represents a movie)\n",
    "    interaction_matrix = interaction_matrix.T\n",
    "    \n",
    "    # Get the index of the movie\n",
    "    movie_idx = movie_to_idx[movie_id]\n",
    "    \n",
    "    # Get the vector of the movie\n",
    "    movie_vector = interaction_matrix[movie_idx]\n",
    "    \n",
    "    # Reshape the movie vector for the kNN algorithm\n",
    "    if isinstance(movie_vector, np.ndarray):\n",
    "        movie_vector = movie_vector.reshape(1, -1)\n",
    "    \n",
    "    # Initialize the kNN model\n",
    "    kNN = NearestNeighbors(n_neighbors=k+1, algorithm=\"brute\", metric=metric)\n",
    "    kNN.fit(interaction_matrix)\n",
    "    \n",
    "    # Find the k-nearest neighbors (excluding the movie itself)\n",
    "    neighbors = kNN.kneighbors(movie_vector, return_distance=False)\n",
    "    \n",
    "    # Convert the indices of the nearest neighbors to movie IDs\n",
    "    similar_movie_ids = [idx_to_movie[idx] for idx in neighbors[0][1:]]\n",
    "    \n",
    "    return similar_movie_ids\n"
   ]
  },
  {
   "cell_type": "code",
   "execution_count": 29,
   "metadata": {},
   "outputs": [
    {
     "name": "stdout",
     "output_type": "stream",
     "text": [
      "Because you watched Toy Story (1995) You may also Like:\n",
      "- Toy Story 2 (1999)\n",
      "- Jurassic Park (1993)\n",
      "- Independence Day (a.k.a. ID4) (1996)\n",
      "- Star Wars: Episode IV - A New Hope (1977)\n",
      "- Forrest Gump (1994)\n",
      "- Lion King, The (1994)\n",
      "- Star Wars: Episode VI - Return of the Jedi (1983)\n",
      "- Mission: Impossible (1996)\n",
      "- Groundhog Day (1993)\n",
      "- Back to the Future (1985)\n"
     ]
    }
   ],
   "source": [
    "\n",
    "# Movie ID of interest (e.g., Toy Story)\n",
    "from sklearn.neighbors import NearestNeighbors\n",
    "\n",
    "movie_id = 1\n",
    "\n",
    "# Find similar movies using k-NN (Cosine similarity)\n",
    "similar_movie_ids = find_similar_movies(movie_id, interaction_matrix, movie_to_idx, idx_to_movie, k=10, metric='cosine')\n",
    "\n",
    "# Display the results\n",
    "movie_titles = dict(zip(movies_df['movieId'], movies_df['title']))\n",
    "\n",
    "print(f\"Because you watched {movie_titles[movie_id]} You may also Like:\")\n",
    "for similar_movie_id in similar_movie_ids:\n",
    "    print(f\"- {movie_titles[similar_movie_id]}\")\n"
   ]
  },
  {
   "cell_type": "markdown",
   "metadata": {},
   "source": [
    "###  Experiment with Different Metrics"
   ]
  },
  {
   "cell_type": "code",
   "execution_count": 30,
   "metadata": {},
   "outputs": [
    {
     "name": "stdout",
     "output_type": "stream",
     "text": [
      "\n",
      "Because you watched Toy Story (1995) You may also like (Euclidean):\n",
      "- Toy Story 2 (1999)\n",
      "- Mission: Impossible (1996)\n",
      "- Independence Day (a.k.a. ID4) (1996)\n",
      "- Bug's Life, A (1998)\n",
      "- Nutty Professor, The (1996)\n",
      "- Willy Wonka & the Chocolate Factory (1971)\n",
      "- Babe (1995)\n",
      "- Groundhog Day (1993)\n",
      "- Mask, The (1994)\n",
      "- Honey, I Shrunk the Kids (1989)\n"
     ]
    }
   ],
   "source": [
    "# Experiment with 'euclidean' or 'manhattan' distance\n",
    "similar_movie_ids_euclidean = find_similar_movies(movie_id, interaction_matrix, movie_to_idx, idx_to_movie, k=10, metric='euclidean')\n",
    "\n",
    "print(f\"\\nBecause you watched {movie_titles[movie_id]} You may also like (Euclidean):\")\n",
    "for similar_movie_id in similar_movie_ids_euclidean:\n",
    "    print(f\"- {movie_titles[similar_movie_id]}\")\n"
   ]
  },
  {
   "cell_type": "markdown",
   "metadata": {},
   "source": [
    "### Handling the Cold-Start Problem"
   ]
  },
  {
   "cell_type": "code",
   "execution_count": 31,
   "metadata": {},
   "outputs": [
    {
     "name": "stdout",
     "output_type": "stream",
     "text": [
      "There are 9742 unique movies in our movies dataset.\n"
     ]
    },
    {
     "data": {
      "text/html": [
       "<div>\n",
       "<style scoped>\n",
       "    .dataframe tbody tr th:only-of-type {\n",
       "        vertical-align: middle;\n",
       "    }\n",
       "\n",
       "    .dataframe tbody tr th {\n",
       "        vertical-align: top;\n",
       "    }\n",
       "\n",
       "    .dataframe thead th {\n",
       "        text-align: right;\n",
       "    }\n",
       "</style>\n",
       "<table border=\"1\" class=\"dataframe\">\n",
       "  <thead>\n",
       "    <tr style=\"text-align: right;\">\n",
       "      <th></th>\n",
       "      <th>Drama</th>\n",
       "      <th>Film-Noir</th>\n",
       "      <th>IMAX</th>\n",
       "      <th>Fantasy</th>\n",
       "      <th>Animation</th>\n",
       "      <th>War</th>\n",
       "      <th>Romance</th>\n",
       "      <th>Musical</th>\n",
       "      <th>Western</th>\n",
       "      <th>Mystery</th>\n",
       "      <th>Horror</th>\n",
       "      <th>(no genres listed)</th>\n",
       "      <th>Documentary</th>\n",
       "      <th>Sci-Fi</th>\n",
       "      <th>Comedy</th>\n",
       "      <th>Adventure</th>\n",
       "      <th>Thriller</th>\n",
       "      <th>Crime</th>\n",
       "      <th>Children</th>\n",
       "      <th>Action</th>\n",
       "    </tr>\n",
       "  </thead>\n",
       "  <tbody>\n",
       "    <tr>\n",
       "      <th>0</th>\n",
       "      <td>0</td>\n",
       "      <td>0</td>\n",
       "      <td>0</td>\n",
       "      <td>1</td>\n",
       "      <td>1</td>\n",
       "      <td>0</td>\n",
       "      <td>0</td>\n",
       "      <td>0</td>\n",
       "      <td>0</td>\n",
       "      <td>0</td>\n",
       "      <td>0</td>\n",
       "      <td>0</td>\n",
       "      <td>0</td>\n",
       "      <td>0</td>\n",
       "      <td>1</td>\n",
       "      <td>1</td>\n",
       "      <td>0</td>\n",
       "      <td>0</td>\n",
       "      <td>1</td>\n",
       "      <td>0</td>\n",
       "    </tr>\n",
       "    <tr>\n",
       "      <th>1</th>\n",
       "      <td>0</td>\n",
       "      <td>0</td>\n",
       "      <td>0</td>\n",
       "      <td>1</td>\n",
       "      <td>0</td>\n",
       "      <td>0</td>\n",
       "      <td>0</td>\n",
       "      <td>0</td>\n",
       "      <td>0</td>\n",
       "      <td>0</td>\n",
       "      <td>0</td>\n",
       "      <td>0</td>\n",
       "      <td>0</td>\n",
       "      <td>0</td>\n",
       "      <td>0</td>\n",
       "      <td>1</td>\n",
       "      <td>0</td>\n",
       "      <td>0</td>\n",
       "      <td>1</td>\n",
       "      <td>0</td>\n",
       "    </tr>\n",
       "    <tr>\n",
       "      <th>2</th>\n",
       "      <td>0</td>\n",
       "      <td>0</td>\n",
       "      <td>0</td>\n",
       "      <td>0</td>\n",
       "      <td>0</td>\n",
       "      <td>0</td>\n",
       "      <td>1</td>\n",
       "      <td>0</td>\n",
       "      <td>0</td>\n",
       "      <td>0</td>\n",
       "      <td>0</td>\n",
       "      <td>0</td>\n",
       "      <td>0</td>\n",
       "      <td>0</td>\n",
       "      <td>1</td>\n",
       "      <td>0</td>\n",
       "      <td>0</td>\n",
       "      <td>0</td>\n",
       "      <td>0</td>\n",
       "      <td>0</td>\n",
       "    </tr>\n",
       "    <tr>\n",
       "      <th>3</th>\n",
       "      <td>1</td>\n",
       "      <td>0</td>\n",
       "      <td>0</td>\n",
       "      <td>0</td>\n",
       "      <td>0</td>\n",
       "      <td>0</td>\n",
       "      <td>1</td>\n",
       "      <td>0</td>\n",
       "      <td>0</td>\n",
       "      <td>0</td>\n",
       "      <td>0</td>\n",
       "      <td>0</td>\n",
       "      <td>0</td>\n",
       "      <td>0</td>\n",
       "      <td>1</td>\n",
       "      <td>0</td>\n",
       "      <td>0</td>\n",
       "      <td>0</td>\n",
       "      <td>0</td>\n",
       "      <td>0</td>\n",
       "    </tr>\n",
       "    <tr>\n",
       "      <th>4</th>\n",
       "      <td>0</td>\n",
       "      <td>0</td>\n",
       "      <td>0</td>\n",
       "      <td>0</td>\n",
       "      <td>0</td>\n",
       "      <td>0</td>\n",
       "      <td>0</td>\n",
       "      <td>0</td>\n",
       "      <td>0</td>\n",
       "      <td>0</td>\n",
       "      <td>0</td>\n",
       "      <td>0</td>\n",
       "      <td>0</td>\n",
       "      <td>0</td>\n",
       "      <td>1</td>\n",
       "      <td>0</td>\n",
       "      <td>0</td>\n",
       "      <td>0</td>\n",
       "      <td>0</td>\n",
       "      <td>0</td>\n",
       "    </tr>\n",
       "  </tbody>\n",
       "</table>\n",
       "</div>"
      ],
      "text/plain": [
       "   Drama  Film-Noir  IMAX  Fantasy  Animation  War  Romance  Musical  Western  \\\n",
       "0      0          0     0        1          1    0        0        0        0   \n",
       "1      0          0     0        1          0    0        0        0        0   \n",
       "2      0          0     0        0          0    0        1        0        0   \n",
       "3      1          0     0        0          0    0        1        0        0   \n",
       "4      0          0     0        0          0    0        0        0        0   \n",
       "\n",
       "   Mystery  Horror  (no genres listed)  Documentary  Sci-Fi  Comedy  \\\n",
       "0        0       0                   0            0       0       1   \n",
       "1        0       0                   0            0       0       0   \n",
       "2        0       0                   0            0       0       1   \n",
       "3        0       0                   0            0       0       1   \n",
       "4        0       0                   0            0       0       1   \n",
       "\n",
       "   Adventure  Thriller  Crime  Children  Action  \n",
       "0          1         0      0         1       0  \n",
       "1          1         0      0         1       0  \n",
       "2          0         0      0         0       0  \n",
       "3          0         0      0         0       0  \n",
       "4          0         0      0         0       0  "
      ]
     },
     "execution_count": 31,
     "metadata": {},
     "output_type": "execute_result"
    }
   ],
   "source": [
    "# Convert the Genres Column into Binary Features\n",
    "n_movies = movies_df['movieId'].nunique()\n",
    "print(f\"There are {n_movies} unique movies in our movies dataset.\")\n",
    "\n",
    "# Extract unique genres from the dataset\n",
    "genres = set(g for G in movies_df['genres'] for g in G)\n",
    "\n",
    "# Add a binary column for each genre\n",
    "for g in genres:\n",
    "    movies_df[g] = movies_df.genres.transform(lambda x: int(g in x))\n",
    "\n",
    "# Create a new DataFrame with binary genre features\n",
    "movie_genres = movies_df.drop(columns=['movieId', 'title', 'genres'])\n",
    "\n",
    "# Display the first few rows\n",
    "movie_genres.head()\n"
   ]
  },
  {
   "cell_type": "code",
   "execution_count": 32,
   "metadata": {},
   "outputs": [
    {
     "name": "stdout",
     "output_type": "stream",
     "text": [
      "Dimensions of our genres cosine similarity matrix: (9742, 9742)\n"
     ]
    }
   ],
   "source": [
    "# Compute the Cosine Similarity Matrix for Movie Genres\n",
    "from sklearn.metrics.pairwise import cosine_similarity\n",
    "\n",
    "# Compute cosine similarity between movies based on genre features\n",
    "cosine_sim = cosine_similarity(movie_genres, movie_genres)\n",
    "\n",
    "# Print the shape of the cosine similarity matrix\n",
    "print(f\"Dimensions of our genres cosine similarity matrix: {cosine_sim.shape}\")\n"
   ]
  },
  {
   "cell_type": "code",
   "execution_count": 33,
   "metadata": {},
   "outputs": [
    {
     "name": "stdout",
     "output_type": "stream",
     "text": [
      "Toy Story (1995)\n"
     ]
    }
   ],
   "source": [
    "from fuzzywuzzy import process\n",
    "\n",
    "def movie_finder(title):\n",
    "    all_titles = movies_df['title'].tolist()\n",
    "    closest_match = process.extractOne(title, all_titles)\n",
    "    return closest_match[0] \n",
    "\n",
    "# Example usage\n",
    "title = movie_finder('toy stor')\n",
    "print(title) \n"
   ]
  },
  {
   "cell_type": "markdown",
   "metadata": {},
   "source": [
    "### Generate Recommendations for Similar Movies(Fuzzywuzzy)"
   ]
  },
  {
   "cell_type": "code",
   "execution_count": 34,
   "metadata": {},
   "outputs": [
    {
     "name": "stdout",
     "output_type": "stream",
     "text": [
      "Because you watched Toy Story (1995):\n",
      "1706                                          Antz (1998)\n",
      "2355                                   Toy Story 2 (1999)\n",
      "2809       Adventures of Rocky and Bullwinkle, The (2000)\n",
      "3000                     Emperor's New Groove, The (2000)\n",
      "3568                                Monsters, Inc. (2001)\n",
      "6194                                     Wild, The (2006)\n",
      "6486                               Shrek the Third (2007)\n",
      "6948                       Tale of Despereaux, The (2008)\n",
      "7760    Asterix and the Vikings (Astérix et les Viking...\n",
      "8219                                         Turbo (2013)\n",
      "Name: title, dtype: object\n"
     ]
    }
   ],
   "source": [
    "movie_idx = dict(zip(movies_df['title'], list(movies_df.index)))\n",
    "idx = movie_idx['Toy Story (1995)']\n",
    "n_recommendations = 10\n",
    "\n",
    "sim_scores = list(enumerate(cosine_sim[idx]))\n",
    "sim_scores = sorted(sim_scores, key=lambda x: x[1], reverse=True)\n",
    "sim_scores = sim_scores[1:(n_recommendations + 1)]\n",
    "\n",
    "similar_movies = [i[0] for i in sim_scores]\n",
    "print(f\"Because you watched {title}:\")\n",
    "print(movies_df['title'].iloc[similar_movies])\n"
   ]
  },
  {
   "cell_type": "markdown",
   "metadata": {},
   "source": [
    "### Function to Get Content-Based Recommendations"
   ]
  },
  {
   "cell_type": "code",
   "execution_count": 35,
   "metadata": {},
   "outputs": [
    {
     "name": "stdout",
     "output_type": "stream",
     "text": [
      "Because you watched Honey, I Shrunk the Kids (1989):\n",
      "478                              Super Mario Bros. (1993)\n",
      "559                                      Space Jam (1996)\n",
      "8806                                          Home (2015)\n",
      "9169           Wizards of Waverly Place: The Movie (2009)\n",
      "1357                                Borrowers, The (1997)\n",
      "2233                                  Time Bandits (1981)\n",
      "3629                    Bill & Ted's Bogus Journey (1991)\n",
      "5122                       *batteries not included (1987)\n",
      "5517    Ewok Adventure, The (a.k.a. Caravan of Courage...\n",
      "5523                   Ewoks: The Battle for Endor (1985)\n",
      "Name: title, dtype: object\n"
     ]
    }
   ],
   "source": [
    "def get_content_based_recommendations(title_string, n_recommendations=10):\n",
    "    title = movie_finder(title_string)\n",
    "    idx = movie_idx[title]\n",
    "    sim_scores = list(enumerate(cosine_sim[idx]))\n",
    "    sim_scores = sorted(sim_scores, key=lambda x: x[1], reverse=True)\n",
    "    sim_scores = sim_scores[1:(n_recommendations + 1)]\n",
    "    similar_movies = [i[0] for i in sim_scores]\n",
    "    \n",
    "    print(f\"Because you watched {title}:\")\n",
    "    print(movies_df['title'].iloc[similar_movies])\n",
    "\n",
    "# Example usage\n",
    "get_content_based_recommendations('Honey, I Shrunk ', 10)\n"
   ]
  },
  {
   "cell_type": "markdown",
   "metadata": {},
   "source": [
    "### Collaborative Filtering with Surprise"
   ]
  },
  {
   "cell_type": "code",
   "execution_count": 36,
   "metadata": {},
   "outputs": [],
   "source": [
    "# Prepare the data for Surprise\n",
    "reader = Reader(rating_scale=(1, 5))\n",
    "data = Dataset.load_from_df(ratings_df[['userId', 'movieId', 'rating']], reader)\n",
    "\n",
    "# Splitting the data into training and testing sets\n",
    "trainset, testset = train_test_split(data, test_size=0.2)\n"
   ]
  },
  {
   "cell_type": "code",
   "execution_count": 37,
   "metadata": {},
   "outputs": [
    {
     "name": "stdout",
     "output_type": "stream",
     "text": [
      "RMSE: 0.8883\n",
      "SVD RMSE: 0.8882586906266631\n"
     ]
    }
   ],
   "source": [
    "# Instantiate SVD algorithm\n",
    "SVD_algor = SVD()\n",
    "\n",
    "# Train the SVD model\n",
    "SVD_algor.fit(trainset)\n",
    "\n",
    "# Make predictions for the test set\n",
    "predictions = SVD_algor.test(testset)\n",
    "\n",
    "# Evaluate the model\n",
    "svd_rmse = accuracy.rmse(predictions)\n",
    "print(f\"SVD RMSE: {svd_rmse}\")\n"
   ]
  },
  {
   "cell_type": "markdown",
   "metadata": {},
   "source": [
    "### KNN Basic Algorithm\n"
   ]
  },
  {
   "cell_type": "code",
   "execution_count": 38,
   "metadata": {},
   "outputs": [
    {
     "name": "stdout",
     "output_type": "stream",
     "text": [
      "Computing the msd similarity matrix...\n",
      "Done computing similarity matrix.\n",
      "RMSE: 0.9586\n",
      "KNN RMSE: 0.9585768152782342\n"
     ]
    }
   ],
   "source": [
    "# Instantiate KNN algorithm (user-based collaborative filtering)\n",
    "KNN_algor = KNNBasic(sim_options={'user_based': True})\n",
    "\n",
    "# Train the KNN model\n",
    "KNN_algor.fit(trainset)\n",
    "\n",
    "# Make predictions for the test set\n",
    "predictions = KNN_algor.test(testset)\n",
    "\n",
    "# Evaluate the model\n",
    "knn_rmse = accuracy.rmse(predictions)\n",
    "print(f\"KNN RMSE: {knn_rmse}\")\n"
   ]
  },
  {
   "cell_type": "markdown",
   "metadata": {},
   "source": [
    "### Model Comparison\n"
   ]
  },
  {
   "cell_type": "code",
   "execution_count": 39,
   "metadata": {},
   "outputs": [
    {
     "data": {
      "text/html": [
       "<div>\n",
       "<style scoped>\n",
       "    .dataframe tbody tr th:only-of-type {\n",
       "        vertical-align: middle;\n",
       "    }\n",
       "\n",
       "    .dataframe tbody tr th {\n",
       "        vertical-align: top;\n",
       "    }\n",
       "\n",
       "    .dataframe thead th {\n",
       "        text-align: right;\n",
       "    }\n",
       "</style>\n",
       "<table border=\"1\" class=\"dataframe\">\n",
       "  <thead>\n",
       "    <tr style=\"text-align: right;\">\n",
       "      <th></th>\n",
       "      <th>RMSE</th>\n",
       "    </tr>\n",
       "  </thead>\n",
       "  <tbody>\n",
       "    <tr>\n",
       "      <th>SVD</th>\n",
       "      <td>0.888259</td>\n",
       "    </tr>\n",
       "    <tr>\n",
       "      <th>KNN</th>\n",
       "      <td>0.958577</td>\n",
       "    </tr>\n",
       "  </tbody>\n",
       "</table>\n",
       "</div>"
      ],
      "text/plain": [
       "         RMSE\n",
       "SVD  0.888259\n",
       "KNN  0.958577"
      ]
     },
     "execution_count": 39,
     "metadata": {},
     "output_type": "execute_result"
    }
   ],
   "source": [
    "# Store RMSE results for both models\n",
    "results = {\n",
    "    \"SVD\": [svd_rmse],\n",
    "    \"KNN\": [knn_rmse]\n",
    "}\n",
    "\n",
    "# Convert the dictionary to a DataFrame for easier comparison\n",
    "results_df = pd.DataFrame(results).T\n",
    "results_df = results_df.rename(columns={0: \"RMSE\"})\n",
    "results_df.sort_values(by='RMSE', ascending=True)\n"
   ]
  },
  {
   "cell_type": "code",
   "execution_count": 40,
   "metadata": {},
   "outputs": [],
   "source": [
    "# # Save the KNN model to a file\n",
    "# file_name = 'knn_model.pkl'\n",
    "# with open(file_name, 'wb') as file:\n",
    "#     pickle.dump(KNN_algor, file)\n"
   ]
  },
  {
   "cell_type": "markdown",
   "metadata": {},
   "source": [
    "### Web Scraping for Movie Metadata (Images and URLs)"
   ]
  },
  {
   "cell_type": "code",
   "execution_count": 41,
   "metadata": {},
   "outputs": [],
   "source": [
    "# the web scrapper is commented because of its long run time(70 mins)\n",
    "# # Create empty columns with null values\n",
    "# link_df['url'] = np.nan\n",
    "# link_df['img_url'] = np.nan\n",
    "\n",
    "\n",
    "# for idx, tmdbId in tqdm(enumerate(link_df['tmdbId']), total = len(link_df['tmdbId'])):\n",
    "#     try:\n",
    "#         # Get url\n",
    "#         url = 'https://www.themoviedb.org/movie/' + str(tmdbId)\n",
    "#         link_df['url'][idx] = url\n",
    "\n",
    "#         # assign the response to a object\n",
    "#         response = requests.get(url)\n",
    "\n",
    "#         # Use BeautifulSoup() to create a BeautifulSoup object from a response text content\n",
    "#         soup = BeautifulSoup(response.text, 'html.parser')\n",
    "\n",
    "#         # Find image container\n",
    "#         obj = soup.find('div', 'image_content backdrop').img\n",
    "\n",
    "#         # Get image url\n",
    "#         image_url = 'https://www.themoviedb.org' + obj.get('data-src')\n",
    "\n",
    "#         # Link image url\n",
    "#         link_df['img_url'][idx] = image_url\n",
    "#     except AttributeError:\n",
    "#         image_url = 'https://www.firstcolonyfoundation.org/wp-content/uploads/2022/01/no-photo-available.jpeg'\n",
    "        \n",
    "#         link_df['img_url'][idx] = image_url"
   ]
  },
  {
   "cell_type": "markdown",
   "metadata": {},
   "source": [
    "### Save the Scrapped Data"
   ]
  },
  {
   "cell_type": "code",
   "execution_count": 42,
   "metadata": {},
   "outputs": [],
   "source": [
    "# # Save the scraped metadata (URLs and Image URLs)\n",
    "# link_df.to_csv('link_df.csv', index=False)\n"
   ]
  },
  {
   "cell_type": "code",
   "execution_count": 43,
   "metadata": {},
   "outputs": [],
   "source": [
    "links_df = pd.read_csv('links_df.csv')"
   ]
  },
  {
   "cell_type": "code",
   "execution_count": 44,
   "metadata": {},
   "outputs": [
    {
     "data": {
      "text/html": [
       "<div>\n",
       "<style scoped>\n",
       "    .dataframe tbody tr th:only-of-type {\n",
       "        vertical-align: middle;\n",
       "    }\n",
       "\n",
       "    .dataframe tbody tr th {\n",
       "        vertical-align: top;\n",
       "    }\n",
       "\n",
       "    .dataframe thead th {\n",
       "        text-align: right;\n",
       "    }\n",
       "</style>\n",
       "<table border=\"1\" class=\"dataframe\">\n",
       "  <thead>\n",
       "    <tr style=\"text-align: right;\">\n",
       "      <th></th>\n",
       "      <th>movieId</th>\n",
       "      <th>imdbId</th>\n",
       "      <th>tmdbId</th>\n",
       "      <th>url</th>\n",
       "      <th>img_url</th>\n",
       "    </tr>\n",
       "  </thead>\n",
       "  <tbody>\n",
       "    <tr>\n",
       "      <th>0</th>\n",
       "      <td>1</td>\n",
       "      <td>114709</td>\n",
       "      <td>862.0</td>\n",
       "      <td>https://www.themoviedb.org/movie/862.0</td>\n",
       "      <td>https://www.themoviedb.org/t/p/w300_and_h450_b...</td>\n",
       "    </tr>\n",
       "    <tr>\n",
       "      <th>1</th>\n",
       "      <td>2</td>\n",
       "      <td>113497</td>\n",
       "      <td>8844.0</td>\n",
       "      <td>https://www.themoviedb.org/movie/8844.0</td>\n",
       "      <td>https://www.themoviedb.org/t/p/w300_and_h450_b...</td>\n",
       "    </tr>\n",
       "    <tr>\n",
       "      <th>2</th>\n",
       "      <td>3</td>\n",
       "      <td>113228</td>\n",
       "      <td>15602.0</td>\n",
       "      <td>https://www.themoviedb.org/movie/15602.0</td>\n",
       "      <td>https://www.themoviedb.org/t/p/w300_and_h450_b...</td>\n",
       "    </tr>\n",
       "    <tr>\n",
       "      <th>3</th>\n",
       "      <td>4</td>\n",
       "      <td>114885</td>\n",
       "      <td>31357.0</td>\n",
       "      <td>https://www.themoviedb.org/movie/31357.0</td>\n",
       "      <td>https://www.themoviedb.org/t/p/w300_and_h450_b...</td>\n",
       "    </tr>\n",
       "    <tr>\n",
       "      <th>4</th>\n",
       "      <td>5</td>\n",
       "      <td>113041</td>\n",
       "      <td>11862.0</td>\n",
       "      <td>https://www.themoviedb.org/movie/11862.0</td>\n",
       "      <td>https://www.themoviedb.org/t/p/w300_and_h450_b...</td>\n",
       "    </tr>\n",
       "    <tr>\n",
       "      <th>...</th>\n",
       "      <td>...</td>\n",
       "      <td>...</td>\n",
       "      <td>...</td>\n",
       "      <td>...</td>\n",
       "      <td>...</td>\n",
       "    </tr>\n",
       "    <tr>\n",
       "      <th>9737</th>\n",
       "      <td>193581</td>\n",
       "      <td>5476944</td>\n",
       "      <td>432131.0</td>\n",
       "      <td>https://www.themoviedb.org/movie/432131.0</td>\n",
       "      <td>https://www.themoviedb.org/t/p/w300_and_h450_b...</td>\n",
       "    </tr>\n",
       "    <tr>\n",
       "      <th>9738</th>\n",
       "      <td>193583</td>\n",
       "      <td>5914996</td>\n",
       "      <td>445030.0</td>\n",
       "      <td>https://www.themoviedb.org/movie/445030.0</td>\n",
       "      <td>https://www.themoviedb.org/t/p/w300_and_h450_b...</td>\n",
       "    </tr>\n",
       "    <tr>\n",
       "      <th>9739</th>\n",
       "      <td>193585</td>\n",
       "      <td>6397426</td>\n",
       "      <td>479308.0</td>\n",
       "      <td>https://www.themoviedb.org/movie/479308.0</td>\n",
       "      <td>https://www.themoviedb.org/t/p/w300_and_h450_b...</td>\n",
       "    </tr>\n",
       "    <tr>\n",
       "      <th>9740</th>\n",
       "      <td>193587</td>\n",
       "      <td>8391976</td>\n",
       "      <td>483455.0</td>\n",
       "      <td>https://www.themoviedb.org/movie/483455.0</td>\n",
       "      <td>https://www.themoviedb.org/t/p/w300_and_h450_b...</td>\n",
       "    </tr>\n",
       "    <tr>\n",
       "      <th>9741</th>\n",
       "      <td>193609</td>\n",
       "      <td>101726</td>\n",
       "      <td>37891.0</td>\n",
       "      <td>https://www.themoviedb.org/movie/37891.0</td>\n",
       "      <td>https://www.themoviedb.org/t/p/w300_and_h450_b...</td>\n",
       "    </tr>\n",
       "  </tbody>\n",
       "</table>\n",
       "<p>9742 rows × 5 columns</p>\n",
       "</div>"
      ],
      "text/plain": [
       "      movieId   imdbId    tmdbId                                        url  \\\n",
       "0           1   114709     862.0     https://www.themoviedb.org/movie/862.0   \n",
       "1           2   113497    8844.0    https://www.themoviedb.org/movie/8844.0   \n",
       "2           3   113228   15602.0   https://www.themoviedb.org/movie/15602.0   \n",
       "3           4   114885   31357.0   https://www.themoviedb.org/movie/31357.0   \n",
       "4           5   113041   11862.0   https://www.themoviedb.org/movie/11862.0   \n",
       "...       ...      ...       ...                                        ...   \n",
       "9737   193581  5476944  432131.0  https://www.themoviedb.org/movie/432131.0   \n",
       "9738   193583  5914996  445030.0  https://www.themoviedb.org/movie/445030.0   \n",
       "9739   193585  6397426  479308.0  https://www.themoviedb.org/movie/479308.0   \n",
       "9740   193587  8391976  483455.0  https://www.themoviedb.org/movie/483455.0   \n",
       "9741   193609   101726   37891.0   https://www.themoviedb.org/movie/37891.0   \n",
       "\n",
       "                                                img_url  \n",
       "0     https://www.themoviedb.org/t/p/w300_and_h450_b...  \n",
       "1     https://www.themoviedb.org/t/p/w300_and_h450_b...  \n",
       "2     https://www.themoviedb.org/t/p/w300_and_h450_b...  \n",
       "3     https://www.themoviedb.org/t/p/w300_and_h450_b...  \n",
       "4     https://www.themoviedb.org/t/p/w300_and_h450_b...  \n",
       "...                                                 ...  \n",
       "9737  https://www.themoviedb.org/t/p/w300_and_h450_b...  \n",
       "9738  https://www.themoviedb.org/t/p/w300_and_h450_b...  \n",
       "9739  https://www.themoviedb.org/t/p/w300_and_h450_b...  \n",
       "9740  https://www.themoviedb.org/t/p/w300_and_h450_b...  \n",
       "9741  https://www.themoviedb.org/t/p/w300_and_h450_b...  \n",
       "\n",
       "[9742 rows x 5 columns]"
      ]
     },
     "execution_count": 44,
     "metadata": {},
     "output_type": "execute_result"
    }
   ],
   "source": [
    "links_df"
   ]
  },
  {
   "cell_type": "markdown",
   "metadata": {},
   "source": [
    "### Prepare data for recomemdation\n"
   ]
  },
  {
   "cell_type": "code",
   "execution_count": 45,
   "metadata": {},
   "outputs": [
    {
     "data": {
      "text/html": [
       "<div>\n",
       "<style scoped>\n",
       "    .dataframe tbody tr th:only-of-type {\n",
       "        vertical-align: middle;\n",
       "    }\n",
       "\n",
       "    .dataframe tbody tr th {\n",
       "        vertical-align: top;\n",
       "    }\n",
       "\n",
       "    .dataframe thead th {\n",
       "        text-align: right;\n",
       "    }\n",
       "</style>\n",
       "<table border=\"1\" class=\"dataframe\">\n",
       "  <thead>\n",
       "    <tr style=\"text-align: right;\">\n",
       "      <th></th>\n",
       "      <th>movieId</th>\n",
       "      <th>title</th>\n",
       "      <th>genres</th>\n",
       "      <th>Drama</th>\n",
       "      <th>Film-Noir</th>\n",
       "      <th>IMAX</th>\n",
       "      <th>Fantasy</th>\n",
       "      <th>Animation</th>\n",
       "      <th>War</th>\n",
       "      <th>Romance</th>\n",
       "      <th>...</th>\n",
       "      <th>Documentary</th>\n",
       "      <th>Sci-Fi</th>\n",
       "      <th>Comedy</th>\n",
       "      <th>Adventure</th>\n",
       "      <th>Thriller</th>\n",
       "      <th>Crime</th>\n",
       "      <th>Children</th>\n",
       "      <th>Action</th>\n",
       "      <th>imdbId</th>\n",
       "      <th>tmdbId</th>\n",
       "    </tr>\n",
       "  </thead>\n",
       "  <tbody>\n",
       "    <tr>\n",
       "      <th>0</th>\n",
       "      <td>1</td>\n",
       "      <td>Toy Story (1995)</td>\n",
       "      <td>[Adventure, Animation, Children, Comedy, Fantasy]</td>\n",
       "      <td>0</td>\n",
       "      <td>0</td>\n",
       "      <td>0</td>\n",
       "      <td>1</td>\n",
       "      <td>1</td>\n",
       "      <td>0</td>\n",
       "      <td>0</td>\n",
       "      <td>...</td>\n",
       "      <td>0</td>\n",
       "      <td>0</td>\n",
       "      <td>1</td>\n",
       "      <td>1</td>\n",
       "      <td>0</td>\n",
       "      <td>0</td>\n",
       "      <td>1</td>\n",
       "      <td>0</td>\n",
       "      <td>114709</td>\n",
       "      <td>862.0</td>\n",
       "    </tr>\n",
       "    <tr>\n",
       "      <th>1</th>\n",
       "      <td>2</td>\n",
       "      <td>Jumanji (1995)</td>\n",
       "      <td>[Adventure, Children, Fantasy]</td>\n",
       "      <td>0</td>\n",
       "      <td>0</td>\n",
       "      <td>0</td>\n",
       "      <td>1</td>\n",
       "      <td>0</td>\n",
       "      <td>0</td>\n",
       "      <td>0</td>\n",
       "      <td>...</td>\n",
       "      <td>0</td>\n",
       "      <td>0</td>\n",
       "      <td>0</td>\n",
       "      <td>1</td>\n",
       "      <td>0</td>\n",
       "      <td>0</td>\n",
       "      <td>1</td>\n",
       "      <td>0</td>\n",
       "      <td>113497</td>\n",
       "      <td>8844.0</td>\n",
       "    </tr>\n",
       "    <tr>\n",
       "      <th>2</th>\n",
       "      <td>3</td>\n",
       "      <td>Grumpier Old Men (1995)</td>\n",
       "      <td>[Comedy, Romance]</td>\n",
       "      <td>0</td>\n",
       "      <td>0</td>\n",
       "      <td>0</td>\n",
       "      <td>0</td>\n",
       "      <td>0</td>\n",
       "      <td>0</td>\n",
       "      <td>1</td>\n",
       "      <td>...</td>\n",
       "      <td>0</td>\n",
       "      <td>0</td>\n",
       "      <td>1</td>\n",
       "      <td>0</td>\n",
       "      <td>0</td>\n",
       "      <td>0</td>\n",
       "      <td>0</td>\n",
       "      <td>0</td>\n",
       "      <td>113228</td>\n",
       "      <td>15602.0</td>\n",
       "    </tr>\n",
       "    <tr>\n",
       "      <th>3</th>\n",
       "      <td>4</td>\n",
       "      <td>Waiting to Exhale (1995)</td>\n",
       "      <td>[Comedy, Drama, Romance]</td>\n",
       "      <td>1</td>\n",
       "      <td>0</td>\n",
       "      <td>0</td>\n",
       "      <td>0</td>\n",
       "      <td>0</td>\n",
       "      <td>0</td>\n",
       "      <td>1</td>\n",
       "      <td>...</td>\n",
       "      <td>0</td>\n",
       "      <td>0</td>\n",
       "      <td>1</td>\n",
       "      <td>0</td>\n",
       "      <td>0</td>\n",
       "      <td>0</td>\n",
       "      <td>0</td>\n",
       "      <td>0</td>\n",
       "      <td>114885</td>\n",
       "      <td>31357.0</td>\n",
       "    </tr>\n",
       "    <tr>\n",
       "      <th>4</th>\n",
       "      <td>5</td>\n",
       "      <td>Father of the Bride Part II (1995)</td>\n",
       "      <td>[Comedy]</td>\n",
       "      <td>0</td>\n",
       "      <td>0</td>\n",
       "      <td>0</td>\n",
       "      <td>0</td>\n",
       "      <td>0</td>\n",
       "      <td>0</td>\n",
       "      <td>0</td>\n",
       "      <td>...</td>\n",
       "      <td>0</td>\n",
       "      <td>0</td>\n",
       "      <td>1</td>\n",
       "      <td>0</td>\n",
       "      <td>0</td>\n",
       "      <td>0</td>\n",
       "      <td>0</td>\n",
       "      <td>0</td>\n",
       "      <td>113041</td>\n",
       "      <td>11862.0</td>\n",
       "    </tr>\n",
       "  </tbody>\n",
       "</table>\n",
       "<p>5 rows × 25 columns</p>\n",
       "</div>"
      ],
      "text/plain": [
       "   movieId                               title  \\\n",
       "0        1                    Toy Story (1995)   \n",
       "1        2                      Jumanji (1995)   \n",
       "2        3             Grumpier Old Men (1995)   \n",
       "3        4            Waiting to Exhale (1995)   \n",
       "4        5  Father of the Bride Part II (1995)   \n",
       "\n",
       "                                              genres  Drama  Film-Noir  IMAX  \\\n",
       "0  [Adventure, Animation, Children, Comedy, Fantasy]      0          0     0   \n",
       "1                     [Adventure, Children, Fantasy]      0          0     0   \n",
       "2                                  [Comedy, Romance]      0          0     0   \n",
       "3                           [Comedy, Drama, Romance]      1          0     0   \n",
       "4                                           [Comedy]      0          0     0   \n",
       "\n",
       "   Fantasy  Animation  War  Romance  ...  Documentary  Sci-Fi  Comedy  \\\n",
       "0        1          1    0        0  ...            0       0       1   \n",
       "1        1          0    0        0  ...            0       0       0   \n",
       "2        0          0    0        1  ...            0       0       1   \n",
       "3        0          0    0        1  ...            0       0       1   \n",
       "4        0          0    0        0  ...            0       0       1   \n",
       "\n",
       "   Adventure  Thriller  Crime  Children  Action  imdbId   tmdbId  \n",
       "0          1         0      0         1       0  114709    862.0  \n",
       "1          1         0      0         1       0  113497   8844.0  \n",
       "2          0         0      0         0       0  113228  15602.0  \n",
       "3          0         0      0         0       0  114885  31357.0  \n",
       "4          0         0      0         0       0  113041  11862.0  \n",
       "\n",
       "[5 rows x 25 columns]"
      ]
     },
     "execution_count": 45,
     "metadata": {},
     "output_type": "execute_result"
    }
   ],
   "source": [
    "# Merge movies data with links (scraped metadata)\n",
    "merged_df = pd.merge(movies_df, link_df, on='movieId')\n",
    "merged_df.head()\n"
   ]
  },
  {
   "cell_type": "markdown",
   "metadata": {},
   "source": [
    "### Load the Best Model (KNN)"
   ]
  },
  {
   "cell_type": "code",
   "execution_count": 46,
   "metadata": {},
   "outputs": [],
   "source": [
    "# Load the saved KNN model\n",
    "file_name = 'knn_model.pkl'\n",
    "with open(file_name, 'rb') as file:\n",
    "    loaded_model = pickle.load(file)\n"
   ]
  },
  {
   "cell_type": "markdown",
   "metadata": {},
   "source": [
    "### Make Movie Recommendations for a Specific User"
   ]
  },
  {
   "cell_type": "code",
   "execution_count": 47,
   "metadata": {},
   "outputs": [
    {
     "data": {
      "text/html": [
       "<div>\n",
       "<style scoped>\n",
       "    .dataframe tbody tr th:only-of-type {\n",
       "        vertical-align: middle;\n",
       "    }\n",
       "\n",
       "    .dataframe tbody tr th {\n",
       "        vertical-align: top;\n",
       "    }\n",
       "\n",
       "    .dataframe thead th {\n",
       "        text-align: right;\n",
       "    }\n",
       "</style>\n",
       "<table border=\"1\" class=\"dataframe\">\n",
       "  <thead>\n",
       "    <tr style=\"text-align: right;\">\n",
       "      <th></th>\n",
       "      <th>movieId</th>\n",
       "      <th>title</th>\n",
       "      <th>genres</th>\n",
       "      <th>Drama</th>\n",
       "      <th>Film-Noir</th>\n",
       "      <th>IMAX</th>\n",
       "      <th>Fantasy</th>\n",
       "      <th>Animation</th>\n",
       "      <th>War</th>\n",
       "      <th>Romance</th>\n",
       "      <th>...</th>\n",
       "      <th>Documentary</th>\n",
       "      <th>Sci-Fi</th>\n",
       "      <th>Comedy</th>\n",
       "      <th>Adventure</th>\n",
       "      <th>Thriller</th>\n",
       "      <th>Crime</th>\n",
       "      <th>Children</th>\n",
       "      <th>Action</th>\n",
       "      <th>imdbId</th>\n",
       "      <th>tmdbId</th>\n",
       "    </tr>\n",
       "  </thead>\n",
       "  <tbody>\n",
       "    <tr>\n",
       "      <th>21</th>\n",
       "      <td>22</td>\n",
       "      <td>Copycat (1995)</td>\n",
       "      <td>[Crime, Drama, Horror, Mystery, Thriller]</td>\n",
       "      <td>1</td>\n",
       "      <td>0</td>\n",
       "      <td>0</td>\n",
       "      <td>0</td>\n",
       "      <td>0</td>\n",
       "      <td>0</td>\n",
       "      <td>0</td>\n",
       "      <td>...</td>\n",
       "      <td>0</td>\n",
       "      <td>0</td>\n",
       "      <td>0</td>\n",
       "      <td>0</td>\n",
       "      <td>1</td>\n",
       "      <td>1</td>\n",
       "      <td>0</td>\n",
       "      <td>0</td>\n",
       "      <td>112722</td>\n",
       "      <td>1710.0</td>\n",
       "    </tr>\n",
       "    <tr>\n",
       "      <th>225</th>\n",
       "      <td>261</td>\n",
       "      <td>Little Women (1994)</td>\n",
       "      <td>[Drama]</td>\n",
       "      <td>1</td>\n",
       "      <td>0</td>\n",
       "      <td>0</td>\n",
       "      <td>0</td>\n",
       "      <td>0</td>\n",
       "      <td>0</td>\n",
       "      <td>0</td>\n",
       "      <td>...</td>\n",
       "      <td>0</td>\n",
       "      <td>0</td>\n",
       "      <td>0</td>\n",
       "      <td>0</td>\n",
       "      <td>0</td>\n",
       "      <td>0</td>\n",
       "      <td>0</td>\n",
       "      <td>0</td>\n",
       "      <td>110367</td>\n",
       "      <td>9587.0</td>\n",
       "    </tr>\n",
       "    <tr>\n",
       "      <th>244</th>\n",
       "      <td>282</td>\n",
       "      <td>Nell (1994)</td>\n",
       "      <td>[Drama]</td>\n",
       "      <td>1</td>\n",
       "      <td>0</td>\n",
       "      <td>0</td>\n",
       "      <td>0</td>\n",
       "      <td>0</td>\n",
       "      <td>0</td>\n",
       "      <td>0</td>\n",
       "      <td>...</td>\n",
       "      <td>0</td>\n",
       "      <td>0</td>\n",
       "      <td>0</td>\n",
       "      <td>0</td>\n",
       "      <td>0</td>\n",
       "      <td>0</td>\n",
       "      <td>0</td>\n",
       "      <td>0</td>\n",
       "      <td>110638</td>\n",
       "      <td>1945.0</td>\n",
       "    </tr>\n",
       "    <tr>\n",
       "      <th>346</th>\n",
       "      <td>389</td>\n",
       "      <td>Colonel Chabert, Le (1994)</td>\n",
       "      <td>[Drama, Romance, War]</td>\n",
       "      <td>1</td>\n",
       "      <td>0</td>\n",
       "      <td>0</td>\n",
       "      <td>0</td>\n",
       "      <td>0</td>\n",
       "      <td>1</td>\n",
       "      <td>1</td>\n",
       "      <td>...</td>\n",
       "      <td>0</td>\n",
       "      <td>0</td>\n",
       "      <td>0</td>\n",
       "      <td>0</td>\n",
       "      <td>0</td>\n",
       "      <td>0</td>\n",
       "      <td>0</td>\n",
       "      <td>0</td>\n",
       "      <td>109454</td>\n",
       "      <td>41580.0</td>\n",
       "    </tr>\n",
       "    <tr>\n",
       "      <th>429</th>\n",
       "      <td>492</td>\n",
       "      <td>Manhattan Murder Mystery (1993)</td>\n",
       "      <td>[Comedy, Mystery]</td>\n",
       "      <td>0</td>\n",
       "      <td>0</td>\n",
       "      <td>0</td>\n",
       "      <td>0</td>\n",
       "      <td>0</td>\n",
       "      <td>0</td>\n",
       "      <td>0</td>\n",
       "      <td>...</td>\n",
       "      <td>0</td>\n",
       "      <td>0</td>\n",
       "      <td>1</td>\n",
       "      <td>0</td>\n",
       "      <td>0</td>\n",
       "      <td>0</td>\n",
       "      <td>0</td>\n",
       "      <td>0</td>\n",
       "      <td>107507</td>\n",
       "      <td>10440.0</td>\n",
       "    </tr>\n",
       "    <tr>\n",
       "      <th>496</th>\n",
       "      <td>574</td>\n",
       "      <td>Spanking the Monkey (1994)</td>\n",
       "      <td>[Comedy, Drama]</td>\n",
       "      <td>1</td>\n",
       "      <td>0</td>\n",
       "      <td>0</td>\n",
       "      <td>0</td>\n",
       "      <td>0</td>\n",
       "      <td>0</td>\n",
       "      <td>0</td>\n",
       "      <td>...</td>\n",
       "      <td>0</td>\n",
       "      <td>0</td>\n",
       "      <td>1</td>\n",
       "      <td>0</td>\n",
       "      <td>0</td>\n",
       "      <td>0</td>\n",
       "      <td>0</td>\n",
       "      <td>0</td>\n",
       "      <td>111252</td>\n",
       "      <td>17600.0</td>\n",
       "    </tr>\n",
       "    <tr>\n",
       "      <th>497</th>\n",
       "      <td>575</td>\n",
       "      <td>Little Rascals, The (1994)</td>\n",
       "      <td>[Children, Comedy]</td>\n",
       "      <td>0</td>\n",
       "      <td>0</td>\n",
       "      <td>0</td>\n",
       "      <td>0</td>\n",
       "      <td>0</td>\n",
       "      <td>0</td>\n",
       "      <td>0</td>\n",
       "      <td>...</td>\n",
       "      <td>0</td>\n",
       "      <td>0</td>\n",
       "      <td>1</td>\n",
       "      <td>0</td>\n",
       "      <td>0</td>\n",
       "      <td>0</td>\n",
       "      <td>1</td>\n",
       "      <td>0</td>\n",
       "      <td>110366</td>\n",
       "      <td>10897.0</td>\n",
       "    </tr>\n",
       "    <tr>\n",
       "      <th>508</th>\n",
       "      <td>590</td>\n",
       "      <td>Dances with Wolves (1990)</td>\n",
       "      <td>[Adventure, Drama, Western]</td>\n",
       "      <td>1</td>\n",
       "      <td>0</td>\n",
       "      <td>0</td>\n",
       "      <td>0</td>\n",
       "      <td>0</td>\n",
       "      <td>0</td>\n",
       "      <td>0</td>\n",
       "      <td>...</td>\n",
       "      <td>0</td>\n",
       "      <td>0</td>\n",
       "      <td>0</td>\n",
       "      <td>1</td>\n",
       "      <td>0</td>\n",
       "      <td>0</td>\n",
       "      <td>0</td>\n",
       "      <td>0</td>\n",
       "      <td>99348</td>\n",
       "      <td>581.0</td>\n",
       "    </tr>\n",
       "  </tbody>\n",
       "</table>\n",
       "<p>8 rows × 25 columns</p>\n",
       "</div>"
      ],
      "text/plain": [
       "     movieId                            title  \\\n",
       "21        22                   Copycat (1995)   \n",
       "225      261              Little Women (1994)   \n",
       "244      282                      Nell (1994)   \n",
       "346      389       Colonel Chabert, Le (1994)   \n",
       "429      492  Manhattan Murder Mystery (1993)   \n",
       "496      574       Spanking the Monkey (1994)   \n",
       "497      575       Little Rascals, The (1994)   \n",
       "508      590        Dances with Wolves (1990)   \n",
       "\n",
       "                                        genres  Drama  Film-Noir  IMAX  \\\n",
       "21   [Crime, Drama, Horror, Mystery, Thriller]      1          0     0   \n",
       "225                                    [Drama]      1          0     0   \n",
       "244                                    [Drama]      1          0     0   \n",
       "346                      [Drama, Romance, War]      1          0     0   \n",
       "429                          [Comedy, Mystery]      0          0     0   \n",
       "496                            [Comedy, Drama]      1          0     0   \n",
       "497                         [Children, Comedy]      0          0     0   \n",
       "508                [Adventure, Drama, Western]      1          0     0   \n",
       "\n",
       "     Fantasy  Animation  War  Romance  ...  Documentary  Sci-Fi  Comedy  \\\n",
       "21         0          0    0        0  ...            0       0       0   \n",
       "225        0          0    0        0  ...            0       0       0   \n",
       "244        0          0    0        0  ...            0       0       0   \n",
       "346        0          0    1        1  ...            0       0       0   \n",
       "429        0          0    0        0  ...            0       0       1   \n",
       "496        0          0    0        0  ...            0       0       1   \n",
       "497        0          0    0        0  ...            0       0       1   \n",
       "508        0          0    0        0  ...            0       0       0   \n",
       "\n",
       "     Adventure  Thriller  Crime  Children  Action  imdbId   tmdbId  \n",
       "21           0         1      1         0       0  112722   1710.0  \n",
       "225          0         0      0         0       0  110367   9587.0  \n",
       "244          0         0      0         0       0  110638   1945.0  \n",
       "346          0         0      0         0       0  109454  41580.0  \n",
       "429          0         0      0         0       0  107507  10440.0  \n",
       "496          0         0      0         0       0  111252  17600.0  \n",
       "497          0         0      0         1       0  110366  10897.0  \n",
       "508          1         0      0         0       0   99348    581.0  \n",
       "\n",
       "[8 rows x 25 columns]"
      ]
     },
     "execution_count": 47,
     "metadata": {},
     "output_type": "execute_result"
    }
   ],
   "source": [
    "user_id = 2  # Example: User with ID 2\n",
    "\n",
    "# Get the list of movies already rated by the user\n",
    "user_movies = ratings_df[ratings_df['userId'] == user_id]['movieId'].unique()\n",
    "\n",
    "# Get the list of unrated movies\n",
    "unrated_movies = merged_df[~merged_df['movieId'].isin(user_movies)]\n",
    "\n",
    "# Get top-10 movie recommendations for the user\n",
    "k = 10\n",
    "user_recommendations = loaded_model.get_neighbors(user_id, k=k)\n",
    "\n",
    "# Get the recommended movies from the unrated list\n",
    "recommended_movies = unrated_movies[unrated_movies['movieId'].isin(user_recommendations)]\n",
    "recommended_movies\n"
   ]
  },
  {
   "cell_type": "markdown",
   "metadata": {},
   "source": [
    "### Display Recommendations"
   ]
  },
  {
   "cell_type": "code",
   "execution_count": 48,
   "metadata": {},
   "outputs": [
    {
     "data": {
      "text/html": [
       "<div>\n",
       "<style scoped>\n",
       "    .dataframe tbody tr th:only-of-type {\n",
       "        vertical-align: middle;\n",
       "    }\n",
       "\n",
       "    .dataframe tbody tr th {\n",
       "        vertical-align: top;\n",
       "    }\n",
       "\n",
       "    .dataframe thead th {\n",
       "        text-align: right;\n",
       "    }\n",
       "</style>\n",
       "<table border=\"1\" class=\"dataframe\">\n",
       "  <thead>\n",
       "    <tr style=\"text-align: right;\">\n",
       "      <th></th>\n",
       "      <th>movieId</th>\n",
       "      <th>title</th>\n",
       "      <th>genres</th>\n",
       "    </tr>\n",
       "  </thead>\n",
       "  <tbody>\n",
       "    <tr>\n",
       "      <th>21</th>\n",
       "      <td>22</td>\n",
       "      <td>Copycat (1995)</td>\n",
       "      <td>[Crime, Drama, Horror, Mystery, Thriller]</td>\n",
       "    </tr>\n",
       "    <tr>\n",
       "      <th>225</th>\n",
       "      <td>261</td>\n",
       "      <td>Little Women (1994)</td>\n",
       "      <td>[Drama]</td>\n",
       "    </tr>\n",
       "    <tr>\n",
       "      <th>244</th>\n",
       "      <td>282</td>\n",
       "      <td>Nell (1994)</td>\n",
       "      <td>[Drama]</td>\n",
       "    </tr>\n",
       "    <tr>\n",
       "      <th>346</th>\n",
       "      <td>389</td>\n",
       "      <td>Colonel Chabert, Le (1994)</td>\n",
       "      <td>[Drama, Romance, War]</td>\n",
       "    </tr>\n",
       "    <tr>\n",
       "      <th>429</th>\n",
       "      <td>492</td>\n",
       "      <td>Manhattan Murder Mystery (1993)</td>\n",
       "      <td>[Comedy, Mystery]</td>\n",
       "    </tr>\n",
       "    <tr>\n",
       "      <th>496</th>\n",
       "      <td>574</td>\n",
       "      <td>Spanking the Monkey (1994)</td>\n",
       "      <td>[Comedy, Drama]</td>\n",
       "    </tr>\n",
       "    <tr>\n",
       "      <th>497</th>\n",
       "      <td>575</td>\n",
       "      <td>Little Rascals, The (1994)</td>\n",
       "      <td>[Children, Comedy]</td>\n",
       "    </tr>\n",
       "    <tr>\n",
       "      <th>508</th>\n",
       "      <td>590</td>\n",
       "      <td>Dances with Wolves (1990)</td>\n",
       "      <td>[Adventure, Drama, Western]</td>\n",
       "    </tr>\n",
       "  </tbody>\n",
       "</table>\n",
       "</div>"
      ],
      "text/plain": [
       "     movieId                            title  \\\n",
       "21        22                   Copycat (1995)   \n",
       "225      261              Little Women (1994)   \n",
       "244      282                      Nell (1994)   \n",
       "346      389       Colonel Chabert, Le (1994)   \n",
       "429      492  Manhattan Murder Mystery (1993)   \n",
       "496      574       Spanking the Monkey (1994)   \n",
       "497      575       Little Rascals, The (1994)   \n",
       "508      590        Dances with Wolves (1990)   \n",
       "\n",
       "                                        genres  \n",
       "21   [Crime, Drama, Horror, Mystery, Thriller]  \n",
       "225                                    [Drama]  \n",
       "244                                    [Drama]  \n",
       "346                      [Drama, Romance, War]  \n",
       "429                          [Comedy, Mystery]  \n",
       "496                            [Comedy, Drama]  \n",
       "497                         [Children, Comedy]  \n",
       "508                [Adventure, Drama, Western]  "
      ]
     },
     "execution_count": 48,
     "metadata": {},
     "output_type": "execute_result"
    }
   ],
   "source": [
    "# Display the recommended movies with their metadata (title, genres, image URL, and movie URL)\n",
    "recommended_movies[['movieId', 'title', 'genres']] \n"
   ]
  },
  {
   "cell_type": "code",
   "execution_count": null,
   "metadata": {},
   "outputs": [],
   "source": []
  },
  {
   "cell_type": "code",
   "execution_count": null,
   "metadata": {},
   "outputs": [],
   "source": []
  },
  {
   "cell_type": "code",
   "execution_count": null,
   "metadata": {},
   "outputs": [],
   "source": []
  },
  {
   "cell_type": "code",
   "execution_count": null,
   "metadata": {},
   "outputs": [],
   "source": []
  },
  {
   "cell_type": "code",
   "execution_count": null,
   "metadata": {},
   "outputs": [],
   "source": []
  },
  {
   "cell_type": "code",
   "execution_count": null,
   "metadata": {},
   "outputs": [],
   "source": []
  },
  {
   "cell_type": "code",
   "execution_count": null,
   "metadata": {},
   "outputs": [],
   "source": []
  }
 ],
 "metadata": {
  "kernelspec": {
   "display_name": "learn-env",
   "language": "python",
   "name": "python3"
  },
  "language_info": {
   "codemirror_mode": {
    "name": "ipython",
    "version": 3
   },
   "file_extension": ".py",
   "mimetype": "text/x-python",
   "name": "python",
   "nbconvert_exporter": "python",
   "pygments_lexer": "ipython3",
   "version": "3.8.5"
  }
 },
 "nbformat": 4,
 "nbformat_minor": 2
}
